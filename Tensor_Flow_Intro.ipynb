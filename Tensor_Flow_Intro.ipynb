{
  "nbformat": 4,
  "nbformat_minor": 0,
  "metadata": {
    "colab": {
      "name": "Tensor-Flow-Intro.ipynb",
      "provenance": [],
      "authorship_tag": "ABX9TyPFsvOxdNJolkIxwYPHpArE",
      "include_colab_link": true
    },
    "kernelspec": {
      "name": "python3",
      "display_name": "Python 3"
    },
    "language_info": {
      "name": "python"
    },
    "accelerator": "GPU"
  },
  "cells": [
    {
      "cell_type": "markdown",
      "metadata": {
        "id": "view-in-github",
        "colab_type": "text"
      },
      "source": [
        "<a href=\"https://colab.research.google.com/github/adityagupta1707/Data-Science-January/blob/Data-Science/Tensor_Flow_Intro.ipynb\" target=\"_parent\"><img src=\"https://colab.research.google.com/assets/colab-badge.svg\" alt=\"Open In Colab\"/></a>"
      ]
    },
    {
      "cell_type": "code",
      "execution_count": null,
      "metadata": {
        "id": "Jpf-EWPv2cBG"
      },
      "outputs": [],
      "source": [
        ""
      ]
    },
    {
      "cell_type": "markdown",
      "source": [
        "==> Tensorflow (Basic functions)\n",
        "1. ANN Build\n",
        "2. How to select number of hidden layers and neurons\n",
        "3. Keras-Tuner (DL=> Randomised Search CV) "
      ],
      "metadata": {
        "id": "eMsZHEAz283J"
      }
    },
    {
      "cell_type": "code",
      "source": [
        "import tensorflow as tf\n"
      ],
      "metadata": {
        "id": "SRutBzCZ3XUm"
      },
      "execution_count": 3,
      "outputs": []
    },
    {
      "cell_type": "code",
      "source": [
        "print(tf.__version__)"
      ],
      "metadata": {
        "colab": {
          "base_uri": "https://localhost:8080/"
        },
        "id": "1MYo5Sgt3ca2",
        "outputId": "4c181d2c-6143-40e2-ead3-c569231e2cff"
      },
      "execution_count": 4,
      "outputs": [
        {
          "output_type": "stream",
          "name": "stdout",
          "text": [
            "2.8.0\n"
          ]
        }
      ]
    },
    {
      "cell_type": "code",
      "source": [
        "import tensorflow as tf\n",
        "print(\"TensorFlow version: {}\".format(tf.__version__))\n",
        "print(\"Keras version: {}\".format(tf.keras.__version__))"
      ],
      "metadata": {
        "colab": {
          "base_uri": "https://localhost:8080/"
        },
        "id": "yytelCKQ3gyy",
        "outputId": "363eb4e7-4354-4425-e62e-ecb6c4ce17a0"
      },
      "execution_count": 5,
      "outputs": [
        {
          "output_type": "stream",
          "name": "stdout",
          "text": [
            "TensorFlow version: 2.8.0\n",
            "Keras version: 2.8.0\n"
          ]
        }
      ]
    },
    {
      "cell_type": "code",
      "source": [
        "tf.test.is_gpu_available()"
      ],
      "metadata": {
        "colab": {
          "base_uri": "https://localhost:8080/"
        },
        "id": "wGUfkyGv4ymI",
        "outputId": "620a7e30-980b-4504-af49-4876d6b938a3"
      },
      "execution_count": 6,
      "outputs": [
        {
          "output_type": "stream",
          "name": "stdout",
          "text": [
            "WARNING:tensorflow:From <ipython-input-6-17bb7203622b>:1: is_gpu_available (from tensorflow.python.framework.test_util) is deprecated and will be removed in a future version.\n",
            "Instructions for updating:\n",
            "Use `tf.config.list_physical_devices('GPU')` instead.\n"
          ]
        },
        {
          "output_type": "execute_result",
          "data": {
            "text/plain": [
              "True"
            ]
          },
          "metadata": {},
          "execution_count": 6
        }
      ]
    },
    {
      "cell_type": "code",
      "source": [
        "#define a variable\n",
        "k=tf.constant(42)"
      ],
      "metadata": {
        "id": "pM6rp0E25_JU"
      },
      "execution_count": 7,
      "outputs": []
    },
    {
      "cell_type": "code",
      "source": [
        "k=tf.constant(1, dtype = tf.int64)"
      ],
      "metadata": {
        "id": "3It_-m_K6cR2"
      },
      "execution_count": 8,
      "outputs": []
    },
    {
      "cell_type": "code",
      "source": [
        "k"
      ],
      "metadata": {
        "colab": {
          "base_uri": "https://localhost:8080/"
        },
        "id": "00r21ABZ6dVj",
        "outputId": "439f0b5e-5fdf-4891-ebbc-fb60f53535d5"
      },
      "execution_count": 9,
      "outputs": [
        {
          "output_type": "execute_result",
          "data": {
            "text/plain": [
              "<tf.Tensor: shape=(), dtype=int64, numpy=1>"
            ]
          },
          "metadata": {},
          "execution_count": 9
        }
      ]
    },
    {
      "cell_type": "code",
      "source": [
        "a=tf.constant([[4,2],[9,5]])"
      ],
      "metadata": {
        "id": "30Ya4d8O-nUM"
      },
      "execution_count": 10,
      "outputs": []
    },
    {
      "cell_type": "code",
      "source": [
        "b=tf.constant(a)"
      ],
      "metadata": {
        "id": "jXDVS_TfEFh5"
      },
      "execution_count": 13,
      "outputs": []
    },
    {
      "cell_type": "code",
      "source": [
        "print(tf.ones(shape=(2,3)))"
      ],
      "metadata": {
        "id": "fiB7hw6bEPYz",
        "colab": {
          "base_uri": "https://localhost:8080/"
        },
        "outputId": "1f36774c-1103-4763-ac13-746ddf903f11"
      },
      "execution_count": 12,
      "outputs": [
        {
          "output_type": "stream",
          "name": "stdout",
          "text": [
            "tf.Tensor(\n",
            "[[1. 1. 1.]\n",
            " [1. 1. 1.]], shape=(2, 3), dtype=float32)\n"
          ]
        }
      ]
    },
    {
      "cell_type": "code",
      "source": [
        "print(tf.zeros(shape=(3,2)))"
      ],
      "metadata": {
        "colab": {
          "base_uri": "https://localhost:8080/"
        },
        "id": "NVsIrs7uUEuh",
        "outputId": "08d3b0fa-3bdf-43c1-b381-802cbd397122"
      },
      "execution_count": 16,
      "outputs": [
        {
          "output_type": "stream",
          "name": "stdout",
          "text": [
            "tf.Tensor(\n",
            "[[0. 0.]\n",
            " [0. 0.]\n",
            " [0. 0.]], shape=(3, 2), dtype=float32)\n"
          ]
        }
      ]
    },
    {
      "cell_type": "code",
      "source": [
        "a1 = tf.constant([[3,4,5],[3,4,5]])\n",
        "a2 = tf.constant([[1,2,3],[1,2,3]])\n",
        "\n",
        "c=tf.add(a1,a2)"
      ],
      "metadata": {
        "id": "2JghnT88UrJu"
      },
      "execution_count": 18,
      "outputs": []
    },
    {
      "cell_type": "code",
      "source": [
        "c"
      ],
      "metadata": {
        "colab": {
          "base_uri": "https://localhost:8080/"
        },
        "id": "fc7E-4jdVvcl",
        "outputId": "395a2846-8657-4d50-9351-632754ce11a2"
      },
      "execution_count": 19,
      "outputs": [
        {
          "output_type": "execute_result",
          "data": {
            "text/plain": [
              "<tf.Tensor: shape=(2, 3), dtype=int32, numpy=\n",
              "array([[4, 6, 8],\n",
              "       [4, 6, 8]], dtype=int32)>"
            ]
          },
          "metadata": {},
          "execution_count": 19
        }
      ]
    },
    {
      "cell_type": "code",
      "source": [
        "#if we have to generate random number from normal distribution\n",
        "\n",
        "tf.random.normal(shape=(2,2),mean=0,stddev=1.0)"
      ],
      "metadata": {
        "colab": {
          "base_uri": "https://localhost:8080/"
        },
        "id": "_xnESTg8V6Nm",
        "outputId": "9997fbbf-2f0e-42f3-bbe3-1de69ac4856f"
      },
      "execution_count": 20,
      "outputs": [
        {
          "output_type": "execute_result",
          "data": {
            "text/plain": [
              "<tf.Tensor: shape=(2, 2), dtype=float32, numpy=\n",
              "array([[-0.3483549 ,  0.13906732],\n",
              "       [ 1.2947963 , -0.6794235 ]], dtype=float32)>"
            ]
          },
          "metadata": {},
          "execution_count": 20
        }
      ]
    },
    {
      "cell_type": "code",
      "source": [
        "tf.random.uniform(shape=(2,2),minval=0,maxval=10,dtype=tf.int32)"
      ],
      "metadata": {
        "colab": {
          "base_uri": "https://localhost:8080/"
        },
        "id": "Pq1LET24WPq2",
        "outputId": "6c5212be-177f-4332-e5c3-ed9c571b26e7"
      },
      "execution_count": 21,
      "outputs": [
        {
          "output_type": "execute_result",
          "data": {
            "text/plain": [
              "<tf.Tensor: shape=(2, 2), dtype=int32, numpy=\n",
              "array([[1, 7],\n",
              "       [7, 9]], dtype=int32)>"
            ]
          },
          "metadata": {},
          "execution_count": 21
        }
      ]
    },
    {
      "cell_type": "code",
      "source": [
        "a=tf.Variable(23)"
      ],
      "metadata": {
        "id": "Nwy98g1RXnrQ"
      },
      "execution_count": 23,
      "outputs": []
    },
    {
      "cell_type": "code",
      "source": [
        "a"
      ],
      "metadata": {
        "colab": {
          "base_uri": "https://localhost:8080/"
        },
        "id": "u8ir60aDX2v2",
        "outputId": "98567821-ae37-4985-a61e-59cb2944352e"
      },
      "execution_count": 24,
      "outputs": [
        {
          "output_type": "execute_result",
          "data": {
            "text/plain": [
              "<tf.Variable 'Variable:0' shape=() dtype=int32, numpy=23>"
            ]
          },
          "metadata": {},
          "execution_count": 24
        }
      ]
    },
    {
      "cell_type": "code",
      "source": [
        "a2=tf.Variable([23])"
      ],
      "metadata": {
        "id": "jMJt92k5X4t2"
      },
      "execution_count": 25,
      "outputs": []
    },
    {
      "cell_type": "code",
      "source": [
        "a2"
      ],
      "metadata": {
        "colab": {
          "base_uri": "https://localhost:8080/"
        },
        "id": "3lJTY_F-YCAI",
        "outputId": "6196c5a8-4e96-4f2b-9630-1fff443df835"
      },
      "execution_count": 26,
      "outputs": [
        {
          "output_type": "execute_result",
          "data": {
            "text/plain": [
              "<tf.Variable 'Variable:0' shape=(1,) dtype=int32, numpy=array([23], dtype=int32)>"
            ]
          },
          "metadata": {},
          "execution_count": 26
        }
      ]
    },
    {
      "cell_type": "code",
      "source": [
        "tensor = tf.Variable([ [ [10.,11.,12.],[13.,14.,15.],[16.,17.,18.],[19.,20.,21] ] ]) #tensor_variable"
      ],
      "metadata": {
        "id": "DHAw8dQ6YCSB"
      },
      "execution_count": 30,
      "outputs": []
    },
    {
      "cell_type": "code",
      "source": [
        "print(tensor.shape)"
      ],
      "metadata": {
        "colab": {
          "base_uri": "https://localhost:8080/"
        },
        "id": "g9XFvzDFYkLk",
        "outputId": "a2c979a6-8a56-4f8e-ab3a-b5eaec3067b3"
      },
      "execution_count": 31,
      "outputs": [
        {
          "output_type": "stream",
          "name": "stdout",
          "text": [
            "(1, 4, 3)\n"
          ]
        }
      ]
    },
    {
      "cell_type": "code",
      "source": [
        "tensor1=(tf.reshape(tensor,[2,6]))"
      ],
      "metadata": {
        "id": "8SBtv7INYrQa"
      },
      "execution_count": 34,
      "outputs": []
    },
    {
      "cell_type": "code",
      "source": [
        "tensor1"
      ],
      "metadata": {
        "colab": {
          "base_uri": "https://localhost:8080/"
        },
        "id": "SCNRE_LRY_VX",
        "outputId": "53a884d6-13d6-449c-cc48-11df7c9348ac"
      },
      "execution_count": 35,
      "outputs": [
        {
          "output_type": "execute_result",
          "data": {
            "text/plain": [
              "<tf.Tensor: shape=(2, 6), dtype=float32, numpy=\n",
              "array([[10., 11., 12., 13., 14., 15.],\n",
              "       [16., 17., 18., 19., 20., 21.]], dtype=float32)>"
            ]
          },
          "metadata": {},
          "execution_count": 35
        }
      ]
    },
    {
      "cell_type": "code",
      "source": [
        "#convert tensor to numpy\n",
        "\n",
        "tensor.numpy()"
      ],
      "metadata": {
        "colab": {
          "base_uri": "https://localhost:8080/"
        },
        "id": "bHHX6ceEZAKz",
        "outputId": "c3cbf336-024f-4ddd-8665-31e3e66d9e8d"
      },
      "execution_count": 37,
      "outputs": [
        {
          "output_type": "execute_result",
          "data": {
            "text/plain": [
              "array([[[10., 11., 12.],\n",
              "        [13., 14., 15.],\n",
              "        [16., 17., 18.],\n",
              "        [19., 20., 21.]]], dtype=float32)"
            ]
          },
          "metadata": {},
          "execution_count": 37
        }
      ]
    },
    {
      "cell_type": "code",
      "source": [
        "tensor1.numpy()"
      ],
      "metadata": {
        "colab": {
          "base_uri": "https://localhost:8080/"
        },
        "id": "JuTq_jHjZghe",
        "outputId": "063df268-982c-444b-e86a-c8e0ae54db43"
      },
      "execution_count": 38,
      "outputs": [
        {
          "output_type": "execute_result",
          "data": {
            "text/plain": [
              "array([[10., 11., 12., 13., 14., 15.],\n",
              "       [16., 17., 18., 19., 20., 21.]], dtype=float32)"
            ]
          },
          "metadata": {},
          "execution_count": 38
        }
      ]
    },
    {
      "cell_type": "code",
      "source": [
        ""
      ],
      "metadata": {
        "id": "MN_sLlSrZm0s"
      },
      "execution_count": null,
      "outputs": []
    }
  ]
}