{
  "nbformat": 4,
  "nbformat_minor": 0,
  "metadata": {
    "colab": {
      "name": "Shark_Tank-EDA.ipynb",
      "provenance": [],
      "authorship_tag": "ABX9TyNZPfFQWwPwY9Wz0OM8oU/l",
      "include_colab_link": true
    },
    "kernelspec": {
      "name": "python3",
      "display_name": "Python 3"
    },
    "language_info": {
      "name": "python"
    }
  },
  "cells": [
    {
      "cell_type": "markdown",
      "metadata": {
        "id": "view-in-github",
        "colab_type": "text"
      },
      "source": [
        "<a href=\"https://colab.research.google.com/github/adityagupta1707/Data-Science-January/blob/Data-Science/Shark_Tank_EDA.ipynb\" target=\"_parent\"><img src=\"https://colab.research.google.com/assets/colab-badge.svg\" alt=\"Open In Colab\"/></a>"
      ]
    },
    {
      "cell_type": "code",
      "execution_count": 48,
      "metadata": {
        "id": "VurbOfRy3Otc"
      },
      "outputs": [],
      "source": [
        "#Exploratory data analysis (EDA) is used by data scientists to analyze and investigate data sets and summarize their main characteristics, \n",
        "#often employing data visualization methods.\n",
        "\n",
        "\n",
        "import numpy as np # linear algebra\n",
        "import pandas as pd # for data preparation\n",
        "import geopandas as gpd\n",
        "import matplotlib.pyplot as plt\n",
        "import seaborn as sns\n",
        "from babel.numbers import format_currency\n",
        "from wordcloud import WordCloud, STOPWORDS\n",
        "import plotly.express as px\n",
        "import plotly.io as pio\n",
        "pio.templates.default = \"plotly_dark\"\n",
        "pio.renderers.default = 'notebook'\n",
        "\n",
        "import warnings\n",
        "warnings.filterwarnings('ignore')\n",
        "%matplotlib inline"
      ]
    },
    {
      "cell_type": "code",
      "source": [
        "!pip install geopandas"
      ],
      "metadata": {
        "colab": {
          "base_uri": "https://localhost:8080/"
        },
        "id": "poJ6Ey1z4F2_",
        "outputId": "84e50133-b379-4f53-d746-115f8faabcd1"
      },
      "execution_count": 2,
      "outputs": [
        {
          "output_type": "stream",
          "name": "stdout",
          "text": [
            "Collecting geopandas\n",
            "  Downloading geopandas-0.10.2-py2.py3-none-any.whl (1.0 MB)\n",
            "\u001b[K     |████████████████████████████████| 1.0 MB 5.7 MB/s \n",
            "\u001b[?25hCollecting fiona>=1.8\n",
            "  Downloading Fiona-1.8.21-cp37-cp37m-manylinux2014_x86_64.whl (16.7 MB)\n",
            "\u001b[K     |████████████████████████████████| 16.7 MB 361 kB/s \n",
            "\u001b[?25hRequirement already satisfied: shapely>=1.6 in /usr/local/lib/python3.7/dist-packages (from geopandas) (1.8.1.post1)\n",
            "Requirement already satisfied: pandas>=0.25.0 in /usr/local/lib/python3.7/dist-packages (from geopandas) (1.3.5)\n",
            "Collecting pyproj>=2.2.0\n",
            "  Downloading pyproj-3.2.1-cp37-cp37m-manylinux2010_x86_64.whl (6.3 MB)\n",
            "\u001b[K     |████████████████████████████████| 6.3 MB 22.8 MB/s \n",
            "\u001b[?25hCollecting cligj>=0.5\n",
            "  Downloading cligj-0.7.2-py3-none-any.whl (7.1 kB)\n",
            "Requirement already satisfied: certifi in /usr/local/lib/python3.7/dist-packages (from fiona>=1.8->geopandas) (2021.10.8)\n",
            "Requirement already satisfied: setuptools in /usr/local/lib/python3.7/dist-packages (from fiona>=1.8->geopandas) (57.4.0)\n",
            "Requirement already satisfied: click>=4.0 in /usr/local/lib/python3.7/dist-packages (from fiona>=1.8->geopandas) (7.1.2)\n",
            "Requirement already satisfied: attrs>=17 in /usr/local/lib/python3.7/dist-packages (from fiona>=1.8->geopandas) (21.4.0)\n",
            "Collecting munch\n",
            "  Downloading munch-2.5.0-py2.py3-none-any.whl (10 kB)\n",
            "Requirement already satisfied: six>=1.7 in /usr/local/lib/python3.7/dist-packages (from fiona>=1.8->geopandas) (1.15.0)\n",
            "Collecting click-plugins>=1.0\n",
            "  Downloading click_plugins-1.1.1-py2.py3-none-any.whl (7.5 kB)\n",
            "Requirement already satisfied: numpy>=1.17.3 in /usr/local/lib/python3.7/dist-packages (from pandas>=0.25.0->geopandas) (1.21.5)\n",
            "Requirement already satisfied: python-dateutil>=2.7.3 in /usr/local/lib/python3.7/dist-packages (from pandas>=0.25.0->geopandas) (2.8.2)\n",
            "Requirement already satisfied: pytz>=2017.3 in /usr/local/lib/python3.7/dist-packages (from pandas>=0.25.0->geopandas) (2018.9)\n",
            "Installing collected packages: munch, cligj, click-plugins, pyproj, fiona, geopandas\n",
            "Successfully installed click-plugins-1.1.1 cligj-0.7.2 fiona-1.8.21 geopandas-0.10.2 munch-2.5.0 pyproj-3.2.1\n"
          ]
        }
      ]
    },
    {
      "cell_type": "code",
      "source": [
        "shark_tank=pd.read_csv(\"https://raw.githubusercontent.com/Pepcoders/Data-Science-January/main/Shark%20Tank%20India/SharkTank-Final.csv\")"
      ],
      "metadata": {
        "id": "4jaWYXNZ4Eoq"
      },
      "execution_count": 8,
      "outputs": []
    },
    {
      "cell_type": "code",
      "source": [
        "shark_tank.head()"
      ],
      "metadata": {
        "colab": {
          "base_uri": "https://localhost:8080/",
          "height": 525
        },
        "id": "MMReRqSq38QQ",
        "outputId": "f1ccc9f6-7a78-4f07-bf7b-c130942a21f3"
      },
      "execution_count": 9,
      "outputs": [
        {
          "output_type": "execute_result",
          "data": {
            "text/plain": [
              "   Season  Episode             Company   \\\n",
              "0       1        1  BluePine Industries   \n",
              "1       1        1        Booz scooters   \n",
              "2       1        1  Heart up my Sleeves   \n",
              "3       1        2           Tagz Foods   \n",
              "4       1        2       Head and Heart   \n",
              "\n",
              "                                            Idea  Deal   Receive_Offer  \\\n",
              "0                                   Frozen Momos      1              1   \n",
              "1  Renting e-bike for mobility in private spaces      1              1   \n",
              "2                             Detachable Sleeves      1              1   \n",
              "3                           Healthy Potato Chips      1              1   \n",
              "4                       Brain Development Course      0              0   \n",
              "\n",
              "   Reject_Offer  Number of presenters  No of male presenters  \\\n",
              "0           0.0                     3                      2   \n",
              "1           0.0                     1                      1   \n",
              "2           0.0                     1                      0   \n",
              "3           0.0                     2                      2   \n",
              "4           NaN                     4                      1   \n",
              "\n",
              "   No of female presenters  ...  AshneerGrover_deal  AnupamMittal_deal  \\\n",
              "0                        1  ...                   1                  0   \n",
              "1                        0  ...                   1                  0   \n",
              "2                        1  ...                   0                  1   \n",
              "3                        0  ...                   1                  0   \n",
              "4                        3  ...                   0                  0   \n",
              "\n",
              "   AmanGupta_deal  NamitaThapar_deal  VineetaSingh_deal  PeyushBansal_deal  \\\n",
              "0               1                  0                  1                  0   \n",
              "1               0                  0                  1                  0   \n",
              "2               0                  0                  1                  0   \n",
              "3               0                  0                  0                  0   \n",
              "4               0                  0                  0                  0   \n",
              "\n",
              "   GhazalAlagh_deal  Number of Sharks invested  Amount per Shark   \\\n",
              "0                 0                          3               25.0   \n",
              "1                 0                          2               20.0   \n",
              "2                 0                          2               12.5   \n",
              "3                 0                          1               70.0   \n",
              "4                 0                          0                0.0   \n",
              "\n",
              "   Equity per Shark  \n",
              "0          5.333333  \n",
              "1         25.000000  \n",
              "2         15.000000  \n",
              "3          2.750000  \n",
              "4          0.000000  \n",
              "\n",
              "[5 rows x 33 columns]"
            ],
            "text/html": [
              "\n",
              "  <div id=\"df-34252e6d-731e-4c35-9196-77b6df0d5003\">\n",
              "    <div class=\"colab-df-container\">\n",
              "      <div>\n",
              "<style scoped>\n",
              "    .dataframe tbody tr th:only-of-type {\n",
              "        vertical-align: middle;\n",
              "    }\n",
              "\n",
              "    .dataframe tbody tr th {\n",
              "        vertical-align: top;\n",
              "    }\n",
              "\n",
              "    .dataframe thead th {\n",
              "        text-align: right;\n",
              "    }\n",
              "</style>\n",
              "<table border=\"1\" class=\"dataframe\">\n",
              "  <thead>\n",
              "    <tr style=\"text-align: right;\">\n",
              "      <th></th>\n",
              "      <th>Season</th>\n",
              "      <th>Episode</th>\n",
              "      <th>Company</th>\n",
              "      <th>Idea</th>\n",
              "      <th>Deal</th>\n",
              "      <th>Receive_Offer</th>\n",
              "      <th>Reject_Offer</th>\n",
              "      <th>Number of presenters</th>\n",
              "      <th>No of male presenters</th>\n",
              "      <th>No of female presenters</th>\n",
              "      <th>...</th>\n",
              "      <th>AshneerGrover_deal</th>\n",
              "      <th>AnupamMittal_deal</th>\n",
              "      <th>AmanGupta_deal</th>\n",
              "      <th>NamitaThapar_deal</th>\n",
              "      <th>VineetaSingh_deal</th>\n",
              "      <th>PeyushBansal_deal</th>\n",
              "      <th>GhazalAlagh_deal</th>\n",
              "      <th>Number of Sharks invested</th>\n",
              "      <th>Amount per Shark</th>\n",
              "      <th>Equity per Shark</th>\n",
              "    </tr>\n",
              "  </thead>\n",
              "  <tbody>\n",
              "    <tr>\n",
              "      <th>0</th>\n",
              "      <td>1</td>\n",
              "      <td>1</td>\n",
              "      <td>BluePine Industries</td>\n",
              "      <td>Frozen Momos</td>\n",
              "      <td>1</td>\n",
              "      <td>1</td>\n",
              "      <td>0.0</td>\n",
              "      <td>3</td>\n",
              "      <td>2</td>\n",
              "      <td>1</td>\n",
              "      <td>...</td>\n",
              "      <td>1</td>\n",
              "      <td>0</td>\n",
              "      <td>1</td>\n",
              "      <td>0</td>\n",
              "      <td>1</td>\n",
              "      <td>0</td>\n",
              "      <td>0</td>\n",
              "      <td>3</td>\n",
              "      <td>25.0</td>\n",
              "      <td>5.333333</td>\n",
              "    </tr>\n",
              "    <tr>\n",
              "      <th>1</th>\n",
              "      <td>1</td>\n",
              "      <td>1</td>\n",
              "      <td>Booz scooters</td>\n",
              "      <td>Renting e-bike for mobility in private spaces</td>\n",
              "      <td>1</td>\n",
              "      <td>1</td>\n",
              "      <td>0.0</td>\n",
              "      <td>1</td>\n",
              "      <td>1</td>\n",
              "      <td>0</td>\n",
              "      <td>...</td>\n",
              "      <td>1</td>\n",
              "      <td>0</td>\n",
              "      <td>0</td>\n",
              "      <td>0</td>\n",
              "      <td>1</td>\n",
              "      <td>0</td>\n",
              "      <td>0</td>\n",
              "      <td>2</td>\n",
              "      <td>20.0</td>\n",
              "      <td>25.000000</td>\n",
              "    </tr>\n",
              "    <tr>\n",
              "      <th>2</th>\n",
              "      <td>1</td>\n",
              "      <td>1</td>\n",
              "      <td>Heart up my Sleeves</td>\n",
              "      <td>Detachable Sleeves</td>\n",
              "      <td>1</td>\n",
              "      <td>1</td>\n",
              "      <td>0.0</td>\n",
              "      <td>1</td>\n",
              "      <td>0</td>\n",
              "      <td>1</td>\n",
              "      <td>...</td>\n",
              "      <td>0</td>\n",
              "      <td>1</td>\n",
              "      <td>0</td>\n",
              "      <td>0</td>\n",
              "      <td>1</td>\n",
              "      <td>0</td>\n",
              "      <td>0</td>\n",
              "      <td>2</td>\n",
              "      <td>12.5</td>\n",
              "      <td>15.000000</td>\n",
              "    </tr>\n",
              "    <tr>\n",
              "      <th>3</th>\n",
              "      <td>1</td>\n",
              "      <td>2</td>\n",
              "      <td>Tagz Foods</td>\n",
              "      <td>Healthy Potato Chips</td>\n",
              "      <td>1</td>\n",
              "      <td>1</td>\n",
              "      <td>0.0</td>\n",
              "      <td>2</td>\n",
              "      <td>2</td>\n",
              "      <td>0</td>\n",
              "      <td>...</td>\n",
              "      <td>1</td>\n",
              "      <td>0</td>\n",
              "      <td>0</td>\n",
              "      <td>0</td>\n",
              "      <td>0</td>\n",
              "      <td>0</td>\n",
              "      <td>0</td>\n",
              "      <td>1</td>\n",
              "      <td>70.0</td>\n",
              "      <td>2.750000</td>\n",
              "    </tr>\n",
              "    <tr>\n",
              "      <th>4</th>\n",
              "      <td>1</td>\n",
              "      <td>2</td>\n",
              "      <td>Head and Heart</td>\n",
              "      <td>Brain Development Course</td>\n",
              "      <td>0</td>\n",
              "      <td>0</td>\n",
              "      <td>NaN</td>\n",
              "      <td>4</td>\n",
              "      <td>1</td>\n",
              "      <td>3</td>\n",
              "      <td>...</td>\n",
              "      <td>0</td>\n",
              "      <td>0</td>\n",
              "      <td>0</td>\n",
              "      <td>0</td>\n",
              "      <td>0</td>\n",
              "      <td>0</td>\n",
              "      <td>0</td>\n",
              "      <td>0</td>\n",
              "      <td>0.0</td>\n",
              "      <td>0.000000</td>\n",
              "    </tr>\n",
              "  </tbody>\n",
              "</table>\n",
              "<p>5 rows × 33 columns</p>\n",
              "</div>\n",
              "      <button class=\"colab-df-convert\" onclick=\"convertToInteractive('df-34252e6d-731e-4c35-9196-77b6df0d5003')\"\n",
              "              title=\"Convert this dataframe to an interactive table.\"\n",
              "              style=\"display:none;\">\n",
              "        \n",
              "  <svg xmlns=\"http://www.w3.org/2000/svg\" height=\"24px\"viewBox=\"0 0 24 24\"\n",
              "       width=\"24px\">\n",
              "    <path d=\"M0 0h24v24H0V0z\" fill=\"none\"/>\n",
              "    <path d=\"M18.56 5.44l.94 2.06.94-2.06 2.06-.94-2.06-.94-.94-2.06-.94 2.06-2.06.94zm-11 1L8.5 8.5l.94-2.06 2.06-.94-2.06-.94L8.5 2.5l-.94 2.06-2.06.94zm10 10l.94 2.06.94-2.06 2.06-.94-2.06-.94-.94-2.06-.94 2.06-2.06.94z\"/><path d=\"M17.41 7.96l-1.37-1.37c-.4-.4-.92-.59-1.43-.59-.52 0-1.04.2-1.43.59L10.3 9.45l-7.72 7.72c-.78.78-.78 2.05 0 2.83L4 21.41c.39.39.9.59 1.41.59.51 0 1.02-.2 1.41-.59l7.78-7.78 2.81-2.81c.8-.78.8-2.07 0-2.86zM5.41 20L4 18.59l7.72-7.72 1.47 1.35L5.41 20z\"/>\n",
              "  </svg>\n",
              "      </button>\n",
              "      \n",
              "  <style>\n",
              "    .colab-df-container {\n",
              "      display:flex;\n",
              "      flex-wrap:wrap;\n",
              "      gap: 12px;\n",
              "    }\n",
              "\n",
              "    .colab-df-convert {\n",
              "      background-color: #E8F0FE;\n",
              "      border: none;\n",
              "      border-radius: 50%;\n",
              "      cursor: pointer;\n",
              "      display: none;\n",
              "      fill: #1967D2;\n",
              "      height: 32px;\n",
              "      padding: 0 0 0 0;\n",
              "      width: 32px;\n",
              "    }\n",
              "\n",
              "    .colab-df-convert:hover {\n",
              "      background-color: #E2EBFA;\n",
              "      box-shadow: 0px 1px 2px rgba(60, 64, 67, 0.3), 0px 1px 3px 1px rgba(60, 64, 67, 0.15);\n",
              "      fill: #174EA6;\n",
              "    }\n",
              "\n",
              "    [theme=dark] .colab-df-convert {\n",
              "      background-color: #3B4455;\n",
              "      fill: #D2E3FC;\n",
              "    }\n",
              "\n",
              "    [theme=dark] .colab-df-convert:hover {\n",
              "      background-color: #434B5C;\n",
              "      box-shadow: 0px 1px 3px 1px rgba(0, 0, 0, 0.15);\n",
              "      filter: drop-shadow(0px 1px 2px rgba(0, 0, 0, 0.3));\n",
              "      fill: #FFFFFF;\n",
              "    }\n",
              "  </style>\n",
              "\n",
              "      <script>\n",
              "        const buttonEl =\n",
              "          document.querySelector('#df-34252e6d-731e-4c35-9196-77b6df0d5003 button.colab-df-convert');\n",
              "        buttonEl.style.display =\n",
              "          google.colab.kernel.accessAllowed ? 'block' : 'none';\n",
              "\n",
              "        async function convertToInteractive(key) {\n",
              "          const element = document.querySelector('#df-34252e6d-731e-4c35-9196-77b6df0d5003');\n",
              "          const dataTable =\n",
              "            await google.colab.kernel.invokeFunction('convertToInteractive',\n",
              "                                                     [key], {});\n",
              "          if (!dataTable) return;\n",
              "\n",
              "          const docLinkHtml = 'Like what you see? Visit the ' +\n",
              "            '<a target=\"_blank\" href=https://colab.research.google.com/notebooks/data_table.ipynb>data table notebook</a>'\n",
              "            + ' to learn more about interactive tables.';\n",
              "          element.innerHTML = '';\n",
              "          dataTable['output_type'] = 'display_data';\n",
              "          await google.colab.output.renderOutput(dataTable, element);\n",
              "          const docLink = document.createElement('div');\n",
              "          docLink.innerHTML = docLinkHtml;\n",
              "          element.appendChild(docLink);\n",
              "        }\n",
              "      </script>\n",
              "    </div>\n",
              "  </div>\n",
              "  "
            ]
          },
          "metadata": {},
          "execution_count": 9
        }
      ]
    },
    {
      "cell_type": "code",
      "source": [
        "shark_tank.info()"
      ],
      "metadata": {
        "colab": {
          "base_uri": "https://localhost:8080/"
        },
        "id": "ZyU7q-oo4lJf",
        "outputId": "2eb4db2d-42de-4e0d-c11e-705b1cf0ea3f"
      },
      "execution_count": 10,
      "outputs": [
        {
          "output_type": "stream",
          "name": "stdout",
          "text": [
            "<class 'pandas.core.frame.DataFrame'>\n",
            "RangeIndex: 121 entries, 0 to 120\n",
            "Data columns (total 33 columns):\n",
            " #   Column                     Non-Null Count  Dtype  \n",
            "---  ------                     --------------  -----  \n",
            " 0   Season                     121 non-null    int64  \n",
            " 1   Episode                    121 non-null    int64  \n",
            " 2   Company                    121 non-null    object \n",
            " 3   Idea                       121 non-null    object \n",
            " 4   Deal                       121 non-null    int64  \n",
            " 5   Receive_Offer              121 non-null    int64  \n",
            " 6   Reject_Offer               87 non-null     float64\n",
            " 7   Number of presenters       121 non-null    int64  \n",
            " 8   No of male presenters      121 non-null    int64  \n",
            " 9   No of female presenters    121 non-null    int64  \n",
            " 10  Ask_Amount (INR Lakhs)     121 non-null    float64\n",
            " 11  Ask_Equity                 121 non-null    float64\n",
            " 12  Ask_Valuation (INR Lakhs)  121 non-null    float64\n",
            " 13  Deal_Amount (INR Lakhs)    121 non-null    float64\n",
            " 14  Deal_Equity                121 non-null    float64\n",
            " 15  Deal_Valuation             121 non-null    float64\n",
            " 16  AshneerGrover_present      121 non-null    int64  \n",
            " 17  AnupamMittal_present       121 non-null    int64  \n",
            " 18  AmanGupta_present          121 non-null    int64  \n",
            " 19  NamitaThapar_present       121 non-null    int64  \n",
            " 20  VineetaSingh_present       121 non-null    int64  \n",
            " 21  PeyushBansal_present       121 non-null    int64  \n",
            " 22  GhazalAlagh_present        121 non-null    int64  \n",
            " 23  AshneerGrover_deal         121 non-null    int64  \n",
            " 24  AnupamMittal_deal          121 non-null    int64  \n",
            " 25  AmanGupta_deal             121 non-null    int64  \n",
            " 26  NamitaThapar_deal          121 non-null    int64  \n",
            " 27  VineetaSingh_deal          121 non-null    int64  \n",
            " 28  PeyushBansal_deal          121 non-null    int64  \n",
            " 29  GhazalAlagh_deal           121 non-null    int64  \n",
            " 30  Number of Sharks invested  121 non-null    int64  \n",
            " 31  Amount per Shark           121 non-null    float64\n",
            " 32  Equity per Shark           121 non-null    float64\n",
            "dtypes: float64(9), int64(22), object(2)\n",
            "memory usage: 31.3+ KB\n"
          ]
        }
      ]
    },
    {
      "cell_type": "code",
      "source": [
        "shark_tank.isna().sum()"
      ],
      "metadata": {
        "colab": {
          "base_uri": "https://localhost:8080/"
        },
        "id": "D59BN8mR5_ml",
        "outputId": "04596059-21fe-40bf-a943-3287281b7b66"
      },
      "execution_count": 11,
      "outputs": [
        {
          "output_type": "execute_result",
          "data": {
            "text/plain": [
              "Season                        0\n",
              "Episode                       0\n",
              "Company                       0\n",
              "Idea                          0\n",
              "Deal                          0\n",
              "Receive_Offer                 0\n",
              "Reject_Offer                 34\n",
              "Number of presenters          0\n",
              "No of male presenters         0\n",
              "No of female presenters       0\n",
              "Ask_Amount (INR Lakhs)        0\n",
              "Ask_Equity                    0\n",
              "Ask_Valuation (INR Lakhs)     0\n",
              "Deal_Amount (INR Lakhs)       0\n",
              "Deal_Equity                   0\n",
              "Deal_Valuation                0\n",
              "AshneerGrover_present         0\n",
              "AnupamMittal_present          0\n",
              "AmanGupta_present             0\n",
              "NamitaThapar_present          0\n",
              "VineetaSingh_present          0\n",
              "PeyushBansal_present          0\n",
              "GhazalAlagh_present           0\n",
              "AshneerGrover_deal            0\n",
              "AnupamMittal_deal             0\n",
              "AmanGupta_deal                0\n",
              "NamitaThapar_deal             0\n",
              "VineetaSingh_deal             0\n",
              "PeyushBansal_deal             0\n",
              "GhazalAlagh_deal              0\n",
              "Number of Sharks invested     0\n",
              "Amount per Shark              0\n",
              "Equity per Shark              0\n",
              "dtype: int64"
            ]
          },
          "metadata": {},
          "execution_count": 11
        }
      ]
    },
    {
      "cell_type": "code",
      "source": [
        "shark_tank=shark_tank.fillna(0)"
      ],
      "metadata": {
        "id": "AnlN4gop6R3-"
      },
      "execution_count": 13,
      "outputs": []
    },
    {
      "cell_type": "code",
      "source": [
        "shark_tank.isna().sum()"
      ],
      "metadata": {
        "colab": {
          "base_uri": "https://localhost:8080/"
        },
        "id": "EhNbNHoX6bnn",
        "outputId": "04121572-9143-45cb-9dbd-6f35496c0935"
      },
      "execution_count": 14,
      "outputs": [
        {
          "output_type": "execute_result",
          "data": {
            "text/plain": [
              "Season                       0\n",
              "Episode                      0\n",
              "Company                      0\n",
              "Idea                         0\n",
              "Deal                         0\n",
              "Receive_Offer                0\n",
              "Reject_Offer                 0\n",
              "Number of presenters         0\n",
              "No of male presenters        0\n",
              "No of female presenters      0\n",
              "Ask_Amount (INR Lakhs)       0\n",
              "Ask_Equity                   0\n",
              "Ask_Valuation (INR Lakhs)    0\n",
              "Deal_Amount (INR Lakhs)      0\n",
              "Deal_Equity                  0\n",
              "Deal_Valuation               0\n",
              "AshneerGrover_present        0\n",
              "AnupamMittal_present         0\n",
              "AmanGupta_present            0\n",
              "NamitaThapar_present         0\n",
              "VineetaSingh_present         0\n",
              "PeyushBansal_present         0\n",
              "GhazalAlagh_present          0\n",
              "AshneerGrover_deal           0\n",
              "AnupamMittal_deal            0\n",
              "AmanGupta_deal               0\n",
              "NamitaThapar_deal            0\n",
              "VineetaSingh_deal            0\n",
              "PeyushBansal_deal            0\n",
              "GhazalAlagh_deal             0\n",
              "Number of Sharks invested    0\n",
              "Amount per Shark             0\n",
              "Equity per Shark             0\n",
              "dtype: int64"
            ]
          },
          "metadata": {},
          "execution_count": 14
        }
      ]
    },
    {
      "cell_type": "code",
      "source": [
        "shark_tank['Deal '].value_counts()"
      ],
      "metadata": {
        "colab": {
          "base_uri": "https://localhost:8080/"
        },
        "id": "v7lhgt_v6jMC",
        "outputId": "ecd82477-4b17-414e-ee7f-eba1290fac8d"
      },
      "execution_count": 18,
      "outputs": [
        {
          "output_type": "execute_result",
          "data": {
            "text/plain": [
              "1    67\n",
              "0    54\n",
              "Name: Deal , dtype: int64"
            ]
          },
          "metadata": {},
          "execution_count": 18
        }
      ]
    },
    {
      "cell_type": "code",
      "source": [
        "sns.barplot(shark_tank['Deal '],shark_tank['Receive_Offer'])"
      ],
      "metadata": {
        "colab": {
          "base_uri": "https://localhost:8080/",
          "height": 296
        },
        "id": "2pbw6_MPF-h-",
        "outputId": "54d307b7-6c07-469a-f0a3-72e5bb00fc11"
      },
      "execution_count": 19,
      "outputs": [
        {
          "output_type": "execute_result",
          "data": {
            "text/plain": [
              "<matplotlib.axes._subplots.AxesSubplot at 0x7f33886dc4d0>"
            ]
          },
          "metadata": {},
          "execution_count": 19
        },
        {
          "output_type": "display_data",
          "data": {
            "text/plain": [
              "<Figure size 432x288 with 1 Axes>"
            ],
            "image/png": "[encoded data removed]"
          },
          "metadata": {
            "needs_background": "light"
          }
        }
      ]
    },
    {
      "cell_type": "code",
      "source": [
        "#Lets find out the number of deals in which sharks were present"
      ],
      "metadata": {
        "id": "iSv-j4pdHkm8"
      },
      "execution_count": null,
      "outputs": []
    },
    {
      "cell_type": "code",
      "source": [
        "\n",
        "shark_tank['AshneerGrover_present'].value_counts()"
      ],
      "metadata": {
        "colab": {
          "base_uri": "https://localhost:8080/"
        },
        "id": "RKjZkjdkGpdX",
        "outputId": "d1a92526-ca78-4d8a-be1e-f7c64860d560"
      },
      "execution_count": 20,
      "outputs": [
        {
          "output_type": "execute_result",
          "data": {
            "text/plain": [
              "1    98\n",
              "0    23\n",
              "Name: AshneerGrover_present, dtype: int64"
            ]
          },
          "metadata": {},
          "execution_count": 20
        }
      ]
    },
    {
      "cell_type": "code",
      "source": [
        "shark_tank['AnupamMittal_present'].value_counts()"
      ],
      "metadata": {
        "colab": {
          "base_uri": "https://localhost:8080/"
        },
        "id": "_Mfhla4qG1Na",
        "outputId": "866931a2-7fa9-4de3-cc7d-9219112e1afb"
      },
      "execution_count": 21,
      "outputs": [
        {
          "output_type": "execute_result",
          "data": {
            "text/plain": [
              "1    121\n",
              "Name: AnupamMittal_present, dtype: int64"
            ]
          },
          "metadata": {},
          "execution_count": 21
        }
      ]
    },
    {
      "cell_type": "code",
      "source": [
        "shark_tank['AmanGupta_present'].value_counts()"
      ],
      "metadata": {
        "colab": {
          "base_uri": "https://localhost:8080/"
        },
        "id": "zjyguh5xG51O",
        "outputId": "69ac10b8-bae2-4f9f-f049-87342a44c6a8"
      },
      "execution_count": 23,
      "outputs": [
        {
          "output_type": "execute_result",
          "data": {
            "text/plain": [
              "1    102\n",
              "0     19\n",
              "Name: AmanGupta_present, dtype: int64"
            ]
          },
          "metadata": {},
          "execution_count": 23
        }
      ]
    },
    {
      "cell_type": "code",
      "source": [
        "Ashneer_present=len(df[df.AshneerGrover_present==1])\n",
        "Anupam_present=len(df[df.AnupamMittal_present==1])\n",
        "Aman_present=len(df[df.AmanGupta_present==1])\n",
        "Namita_present=len(df[df.NamitaThapar_present==1])\n",
        "Vinneta_present=len(df[df.VineetaSingh_present==1])\n",
        "Peyush_present=len(df[df.PeyushBansal_present==1])\n",
        "Ghazal_present=len(df[df.GhazalAlagh_present==1])"
      ],
      "metadata": {
        "id": "Y92A0HMeG9_p"
      },
      "execution_count": 24,
      "outputs": []
    },
    {
      "cell_type": "code",
      "source": [
        "Vinneta_present"
      ],
      "metadata": {
        "colab": {
          "base_uri": "https://localhost:8080/"
        },
        "id": "a1ZiOADtHPIm",
        "outputId": "65a750d6-3453-48dc-de14-0aafb3b047e5"
      },
      "execution_count": 27,
      "outputs": [
        {
          "output_type": "execute_result",
          "data": {
            "text/plain": [
              "70"
            ]
          },
          "metadata": {},
          "execution_count": 27
        }
      ]
    },
    {
      "cell_type": "code",
      "source": [
        "Ghazal_present"
      ],
      "metadata": {
        "colab": {
          "base_uri": "https://localhost:8080/"
        },
        "id": "i-XqdVAtHRuj",
        "outputId": "3926cc03-49e8-4eb1-db73-caecb7882b9f"
      },
      "execution_count": 28,
      "outputs": [
        {
          "output_type": "execute_result",
          "data": {
            "text/plain": [
              "26"
            ]
          },
          "metadata": {},
          "execution_count": 28
        }
      ]
    },
    {
      "cell_type": "code",
      "source": [
        "#Representing the above data in the form of bar graph"
      ],
      "metadata": {
        "id": "mlzwY5ZtHwFL"
      },
      "execution_count": null,
      "outputs": []
    },
    {
      "cell_type": "code",
      "source": [
        "fig=plt.figure(figsize=(10,5))\n",
        "present=[Ashneer_present,Anupam_present,Aman_present,Namita_present,Vinneta_present,Peyush_present,Ghazal_present]\n",
        "name=['Ashneer','Anupam','Aman','Namita','Vineeta','Peyush','Gazal']\n",
        "plt.bar(name,present,color='red',width=0.5)\n",
        "plt.xlabel(\"Sharks Name\")\n",
        "plt.ylabel(\"Sharks Present\")\n",
        "plt.title(\"Sharks Name vs Sharks Present\")\n",
        "plt.show()"
      ],
      "metadata": {
        "colab": {
          "base_uri": "https://localhost:8080/",
          "height": 350
        },
        "id": "qfp38vmKH0Zu",
        "outputId": "8b502279-f534-4081-9a4f-82822bdbda38"
      },
      "execution_count": 38,
      "outputs": [
        {
          "output_type": "display_data",
          "data": {
            "text/plain": [
              "<Figure size 720x360 with 1 Axes>"
            ],
            "image/png": "[encoded data removed]"
          },
          "metadata": {
            "needs_background": "light"
          }
        }
      ]
    },
    {
      "cell_type": "code",
      "source": [
        "plt.pie(present,labels=name,radius=2,autopct='%0.1f%%')\n",
        "plt.suptitle('% of Candidates present ',x=0.55,y=1.15)"
      ],
      "metadata": {
        "colab": {
          "base_uri": "https://localhost:8080/",
          "height": 440
        },
        "id": "BsSfwNvLJ1zT",
        "outputId": "d1539421-7219-4c72-90a5-e4399257b0e6"
      },
      "execution_count": 39,
      "outputs": [
        {
          "output_type": "execute_result",
          "data": {
            "text/plain": [
              "Text(0.55, 1.15, '% of Candidates present ')"
            ]
          },
          "metadata": {},
          "execution_count": 39
        },
        {
          "output_type": "display_data",
          "data": {
            "text/plain": [
              "<Figure size 432x288 with 1 Axes>"
            ],
            "image/png": "[encoded data removed]"
          },
          "metadata": {}
        }
      ]
    },
    {
      "cell_type": "code",
      "source": [
        "aman_deal = len(shark_tank[shark_tank.AmanGupta_deal == 1])\n",
        "anupam_deal = len(shark_tank[shark_tank.AnupamMittal_deal == 1])\n",
        "ashneer_deal = len(shark_tank[shark_tank.AshneerGrover_deal == 1])\n",
        "ghazal_deal = len(shark_tank[shark_tank.GhazalAlagh_deal == 1])\n",
        "namita_deal = len(shark_tank[shark_tank.NamitaThapar_deal == 1])\n",
        "peyush_deal = len(shark_tank[shark_tank.PeyushBansal_deal == 1])\n",
        "vineeta_deal = len(shark_tank[shark_tank.VineetaSingh_deal == 1])"
      ],
      "metadata": {
        "id": "dnHTjHBzKHrF"
      },
      "execution_count": 40,
      "outputs": []
    },
    {
      "cell_type": "code",
      "source": [
        "fig = plt.figure(figsize = (10, 5))\n",
        "deal = [aman_deal, anupam_deal, ashneer_deal, ghazal_deal,\n",
        "namita_deal, peyush_deal, vineeta_deal]\n",
        "names = ['Aman','Anupam', 'Ashneer', 'Ghazal', 'Namita', 'Peyush', 'Vineeta']\n",
        "plt.bar(names, deal, color ='orange',width = 0.4)\n",
        "plt.xlabel(\"Sharks Name\")\n",
        "plt.ylabel(\"Sharks Invested\")\n",
        "plt.title(\"Sharks Invested vs Sharks Name\")\n",
        "plt.show()"
      ],
      "metadata": {
        "colab": {
          "base_uri": "https://localhost:8080/",
          "height": 350
        },
        "id": "DxRP_Ek9Msg3",
        "outputId": "f11420f7-4b15-4724-d02a-ca405589b2c0"
      },
      "execution_count": 41,
      "outputs": [
        {
          "output_type": "display_data",
          "data": {
            "text/plain": [
              "<Figure size 720x360 with 1 Axes>"
            ],
            "image/png": "[encoded data removed]"
          },
          "metadata": {
            "needs_background": "light"
          }
        }
      ]
    },
    {
      "cell_type": "code",
      "source": [
        "plt.pie(deal,labels=names,radius=2,autopct='%0.1f%%')\n",
        "plt.suptitle('Percentage of sharks deal',x=0.55,y=1.15)\n",
        "plt.show()"
      ],
      "metadata": {
        "colab": {
          "base_uri": "https://localhost:8080/",
          "height": 412
        },
        "id": "Hyp-tcLXM0eC",
        "outputId": "80846b6e-a91a-4d1c-c381-f11d3b477b5c"
      },
      "execution_count": 43,
      "outputs": [
        {
          "output_type": "display_data",
          "data": {
            "text/plain": [
              "<Figure size 432x288 with 1 Axes>"
            ],
            "image/png": "[encoded data removed]"
          },
          "metadata": {}
        }
      ]
    },
    {
      "cell_type": "code",
      "source": [
        "#percentage of inventments\n",
        "aman_percent = (aman_deal/Aman_present)*100\n",
        "anupam_percent = (anupam_deal/Anupam_present)*100\n",
        "ashneer_percent = (ashneer_deal/Ashneer_present)*100\n",
        "ghazal_percent = (ghazal_deal/Ghazal_present)*100\n",
        "namita_percent = (namita_deal/Namita_present)*100\n",
        "peyush_percent = (peyush_deal/Peyush_present)*100\n",
        "vineeta_percent = (vineeta_deal/Vinneta_present)*100"
      ],
      "metadata": {
        "id": "Qeug2e8FM8Y7"
      },
      "execution_count": 44,
      "outputs": []
    },
    {
      "cell_type": "code",
      "source": [
        "fig = plt.figure(figsize = (10, 5))\n",
        "percentage=[aman_percent,anupam_percent,ashneer_percent,ghazal_percent,namita_percent,peyush_percent,vineeta_percent]\n",
        "plt.bar(names,percentage,width=0.4)\n",
        "plt.xlabel('Sharks name')\n",
        "plt.ylabel('Sharks deal percentage')\n",
        "plt.title('Sharks Deal-percentage vs name')"
      ],
      "metadata": {
        "colab": {
          "base_uri": "https://localhost:8080/",
          "height": 367
        },
        "id": "BM0Yq2eKNOpY",
        "outputId": "b4179198-785a-400b-ea87-1196d65ea8fd"
      },
      "execution_count": 46,
      "outputs": [
        {
          "output_type": "execute_result",
          "data": {
            "text/plain": [
              "Text(0.5, 1.0, 'Sharks Deal-percentage vs name')"
            ]
          },
          "metadata": {},
          "execution_count": 46
        },
        {
          "output_type": "display_data",
          "data": {
            "text/plain": [
              "<Figure size 720x360 with 1 Axes>"
            ],
            "image/png": "[encoded data removed]"
          },
          "metadata": {
            "needs_background": "light"
          }
        }
      ]
    },
    {
      "cell_type": "code",
      "source": [
        "plt.pie(percentage,labels=names,radius=2,autopct='%0.1f%%')\n",
        "plt.show()"
      ],
      "metadata": {
        "colab": {
          "base_uri": "https://localhost:8080/",
          "height": 418
        },
        "id": "JM1Yz9DYNYSy",
        "outputId": "6257ada2-b718-4608-8548-0cdf804aed0d"
      },
      "execution_count": 47,
      "outputs": [
        {
          "output_type": "display_data",
          "data": {
            "text/plain": [
              "<Figure size 432x288 with 1 Axes>"
            ],
            "image/png": "[encoded data removed]"
          },
          "metadata": {}
        }
      ]
    },
    {
      "cell_type": "code",
      "source": [
        ""
      ],
      "metadata": {
        "id": "D8kaEbONNcHq"
      },
      "execution_count": null,
      "outputs": []
    }
  ]
}