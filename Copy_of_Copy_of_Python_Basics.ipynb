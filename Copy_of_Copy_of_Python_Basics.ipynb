{
  "nbformat": 4,
  "nbformat_minor": 0,
  "metadata": {
    "colab": {
      "name": "Copy of Copy of Python Basics.ipynb",
      "provenance": [],
      "collapsed_sections": [
        "RI9ZgnlfkEm7",
        "1MlVaJMIwOsG",
        "qhgMwvIvALYA",
        "hk8x5Y7tEmdI",
        "8n_mYhrG2CL_",
        "z9Sy7cYUvwIi",
        "BBmvP0-8hrZy"
      ],
      "authorship_tag": "ABX9TyMh1sZkSW6dkNEZ9zYblXQn",
      "include_colab_link": true
    },
    "kernelspec": {
      "name": "python3",
      "display_name": "Python 3"
    },
    "language_info": {
      "name": "python"
    }
  },
  "cells": [
    {
      "cell_type": "markdown",
      "metadata": {
        "id": "view-in-github",
        "colab_type": "text"
      },
      "source": [
        "<a href=\"https://colab.research.google.com/github/ViratK18/Data-Science-January/blob/main/Copy_of_Copy_of_Python_Basics.ipynb\" target=\"_parent\"><img src=\"https://colab.research.google.com/assets/colab-badge.svg\" alt=\"Open In Colab\"/></a>"
      ]
    },
    {
      "cell_type": "code",
      "execution_count": null,
      "metadata": {
        "colab": {
          "base_uri": "https://localhost:8080/"
        },
        "id": "EhDBe3r-eRNj",
        "outputId": "700d0ec8-2697-4de5-b5a1-b69236eb2db2"
      },
      "outputs": [
        {
          "output_type": "stream",
          "name": "stdout",
          "text": [
            "Hello pepcoding\n"
          ]
        }
      ],
      "source": [
        "print(\"Hello pepcoding\")"
      ]
    },
    {
      "cell_type": "markdown",
      "source": [
        ""
      ],
      "metadata": {
        "id": "dP9dvdTEhpY3"
      }
    },
    {
      "cell_type": "code",
      "source": [
        ""
      ],
      "metadata": {
        "id": "gf4m9Lc32AH5"
      },
      "execution_count": null,
      "outputs": []
    },
    {
      "cell_type": "code",
      "source": [
        "num = 10\n",
        "print(\"num\")"
      ],
      "metadata": {
        "colab": {
          "base_uri": "https://localhost:8080/"
        },
        "id": "v2rEXAEtesmJ",
        "outputId": "c6cd0403-7f84-40d9-cb1b-3f09c54c4b5f"
      },
      "execution_count": null,
      "outputs": [
        {
          "output_type": "stream",
          "name": "stdout",
          "text": [
            "num\n"
          ]
        }
      ]
    },
    {
      "cell_type": "code",
      "source": [
        "string = \"pepcoding\"\n",
        "print(\"string\")\n"
      ],
      "metadata": {
        "colab": {
          "base_uri": "https://localhost:8080/"
        },
        "id": "PiaKmKQnfOTE",
        "outputId": "e84bf983-ceb5-4dd2-fa92-f0e1fe8a16e8"
      },
      "execution_count": null,
      "outputs": [
        {
          "output_type": "stream",
          "name": "stdout",
          "text": [
            "string\n"
          ]
        }
      ]
    },
    {
      "cell_type": "code",
      "source": [
        "print(type(string))"
      ],
      "metadata": {
        "colab": {
          "base_uri": "https://localhost:8080/"
        },
        "id": "odXyPjs8fY1z",
        "outputId": "1140a553-f5fe-466f-8f5f-6b0ac1b7ce42"
      },
      "execution_count": null,
      "outputs": [
        {
          "output_type": "stream",
          "name": "stdout",
          "text": [
            "<class 'str'>\n"
          ]
        }
      ]
    },
    {
      "cell_type": "code",
      "source": [
        "print(type(num))"
      ],
      "metadata": {
        "colab": {
          "base_uri": "https://localhost:8080/"
        },
        "id": "1RZtmweffdMd",
        "outputId": "0656f076-2bee-44d3-fbcf-99b096be0a4b"
      },
      "execution_count": null,
      "outputs": [
        {
          "output_type": "stream",
          "name": "stdout",
          "text": [
            "<class 'int'>\n"
          ]
        }
      ]
    },
    {
      "cell_type": "code",
      "source": [
        "aditya = 2.2\n",
        "print(type(aditya))"
      ],
      "metadata": {
        "colab": {
          "base_uri": "https://localhost:8080/"
        },
        "id": "ALkYK4fGfmOB",
        "outputId": "417d5f6c-1d7d-4afe-cd0e-8f4fe587585d"
      },
      "execution_count": null,
      "outputs": [
        {
          "output_type": "stream",
          "name": "stdout",
          "text": [
            "<class 'float'>\n"
          ]
        }
      ]
    },
    {
      "cell_type": "code",
      "source": [
        "print(type(num), type(string), type(aditya))"
      ],
      "metadata": {
        "colab": {
          "base_uri": "https://localhost:8080/"
        },
        "id": "GwyaozqFfuof",
        "outputId": "23cdb3ce-f3c7-48ec-af72-e11906ed0041"
      },
      "execution_count": null,
      "outputs": [
        {
          "output_type": "stream",
          "name": "stdout",
          "text": [
            "<class 'int'> <class 'str'> <class 'float'>\n"
          ]
        }
      ]
    },
    {
      "cell_type": "code",
      "source": [
        "a,b,c = 10,20,30\n",
        "print(a,b,c)"
      ],
      "metadata": {
        "colab": {
          "base_uri": "https://localhost:8080/"
        },
        "id": "C_OLlGr8gDeh",
        "outputId": "dc9268c1-ace9-4e41-d76c-8adc90e4d327"
      },
      "execution_count": null,
      "outputs": [
        {
          "output_type": "stream",
          "name": "stdout",
          "text": [
            "10 20 30\n"
          ]
        }
      ]
    },
    {
      "cell_type": "code",
      "source": [
        "import keyword\n",
        "print(keyword.kwlist)"
      ],
      "metadata": {
        "colab": {
          "base_uri": "https://localhost:8080/"
        },
        "id": "qlln0KVtgemr",
        "outputId": "d1193663-fd0b-4cd2-e58e-843317e74f61"
      },
      "execution_count": null,
      "outputs": [
        {
          "output_type": "stream",
          "name": "stdout",
          "text": [
            "['False', 'None', 'True', 'and', 'as', 'assert', 'async', 'await', 'break', 'class', 'continue', 'def', 'del', 'elif', 'else', 'except', 'finally', 'for', 'from', 'global', 'if', 'import', 'in', 'is', 'lambda', 'nonlocal', 'not', 'or', 'pass', 'raise', 'return', 'try', 'while', 'with', 'yield']\n"
          ]
        }
      ]
    },
    {
      "cell_type": "code",
      "source": [
        ""
      ],
      "metadata": {
        "id": "uUYSrMNdhA8N"
      },
      "execution_count": null,
      "outputs": []
    },
    {
      "cell_type": "markdown",
      "source": [
        "#Numbers"
      ],
      "metadata": {
        "id": "vwaDXlt1jiSV"
      }
    },
    {
      "cell_type": "code",
      "source": [
        "num1 = 100\n",
        "num2 = 4.4\n",
        "num3 = 5+3j\n",
        "print(type(num1), type(num2), type(num3))"
      ],
      "metadata": {
        "colab": {
          "base_uri": "https://localhost:8080/"
        },
        "id": "Fj_PGFdHjlZr",
        "outputId": "a849d41f-8022-450e-95dd-38dfaabfec7e"
      },
      "execution_count": null,
      "outputs": [
        {
          "output_type": "stream",
          "name": "stdout",
          "text": [
            "<class 'int'> <class 'float'> <class 'complex'>\n"
          ]
        }
      ]
    },
    {
      "cell_type": "code",
      "source": [
        ""
      ],
      "metadata": {
        "id": "j0DE2Sa_j-cJ"
      },
      "execution_count": null,
      "outputs": []
    },
    {
      "cell_type": "markdown",
      "source": [
        "#String\n",
        "\n"
      ],
      "metadata": {
        "id": "RI9ZgnlfkEm7"
      }
    },
    {
      "cell_type": "code",
      "source": [
        "string = \"Pepcoding\"\n",
        "print(type(string))"
      ],
      "metadata": {
        "colab": {
          "base_uri": "https://localhost:8080/"
        },
        "id": "DSAMCcq-kG06",
        "outputId": "388fd23e-276b-47bd-893a-4f8b07c515de"
      },
      "execution_count": null,
      "outputs": [
        {
          "output_type": "stream",
          "name": "stdout",
          "text": [
            "<class 'str'>\n"
          ]
        }
      ]
    },
    {
      "cell_type": "code",
      "source": [
        "print(string[0])"
      ],
      "metadata": {
        "colab": {
          "base_uri": "https://localhost:8080/"
        },
        "id": "yBS7VilzkMjQ",
        "outputId": "ce16755d-4f40-4447-9fa6-70907712cc8f"
      },
      "execution_count": null,
      "outputs": [
        {
          "output_type": "stream",
          "name": "stdout",
          "text": [
            "P\n"
          ]
        }
      ]
    },
    {
      "cell_type": "code",
      "source": [
        ""
      ],
      "metadata": {
        "id": "TnTUPh8ukPAJ"
      },
      "execution_count": null,
      "outputs": []
    },
    {
      "cell_type": "markdown",
      "source": [
        "Strings in python are immmutable (cannot be changed)"
      ],
      "metadata": {
        "id": "Xi6p1-oWkek5"
      }
    },
    {
      "cell_type": "code",
      "source": [
        "string = \"Nados\""
      ],
      "metadata": {
        "id": "G_nlVLClkkUh"
      },
      "execution_count": null,
      "outputs": []
    },
    {
      "cell_type": "code",
      "source": [
        "string[0:]"
      ],
      "metadata": {
        "colab": {
          "base_uri": "https://localhost:8080/",
          "height": 35
        },
        "id": "Vw-0rvFek6eH",
        "outputId": "ebf10846-9bb7-4e9a-b877-f550e44da43a"
      },
      "execution_count": null,
      "outputs": [
        {
          "output_type": "execute_result",
          "data": {
            "application/vnd.google.colaboratory.intrinsic+json": {
              "type": "string"
            },
            "text/plain": [
              "'Pepcoding'"
            ]
          },
          "metadata": {},
          "execution_count": 19
        }
      ]
    },
    {
      "cell_type": "code",
      "source": [
        "string[:]"
      ],
      "metadata": {
        "colab": {
          "base_uri": "https://localhost:8080/",
          "height": 35
        },
        "id": "bcJfsDg5lzkH",
        "outputId": "1c5accdf-4388-4600-b21b-348c5cf1189e"
      },
      "execution_count": null,
      "outputs": [
        {
          "output_type": "execute_result",
          "data": {
            "application/vnd.google.colaboratory.intrinsic+json": {
              "type": "string"
            },
            "text/plain": [
              "'Pepcoding'"
            ]
          },
          "metadata": {},
          "execution_count": 20
        }
      ]
    },
    {
      "cell_type": "code",
      "source": [
        "string[0:4:2]"
      ],
      "metadata": {
        "colab": {
          "base_uri": "https://localhost:8080/",
          "height": 35
        },
        "id": "AsAzvxw-mFVp",
        "outputId": "6edf377e-7a7f-448b-c72b-c4c6afb0473f"
      },
      "execution_count": null,
      "outputs": [
        {
          "output_type": "execute_result",
          "data": {
            "application/vnd.google.colaboratory.intrinsic+json": {
              "type": "string"
            },
            "text/plain": [
              "'Pp'"
            ]
          },
          "metadata": {},
          "execution_count": 22
        }
      ]
    },
    {
      "cell_type": "code",
      "source": [
        "string[::2]"
      ],
      "metadata": {
        "colab": {
          "base_uri": "https://localhost:8080/",
          "height": 35
        },
        "id": "MYJNSB_9mL76",
        "outputId": "eac12bcf-e7f8-45f4-9d3c-f0072385929e"
      },
      "execution_count": null,
      "outputs": [
        {
          "output_type": "execute_result",
          "data": {
            "application/vnd.google.colaboratory.intrinsic+json": {
              "type": "string"
            },
            "text/plain": [
              "'Ppoig'"
            ]
          },
          "metadata": {},
          "execution_count": 23
        }
      ]
    },
    {
      "cell_type": "code",
      "source": [
        "string[-9:-6]"
      ],
      "metadata": {
        "colab": {
          "base_uri": "https://localhost:8080/",
          "height": 35
        },
        "id": "ehXEVpCymX1m",
        "outputId": "cbcb5858-a5bc-46eb-f956-8ed6cba095b2"
      },
      "execution_count": null,
      "outputs": [
        {
          "output_type": "execute_result",
          "data": {
            "application/vnd.google.colaboratory.intrinsic+json": {
              "type": "string"
            },
            "text/plain": [
              "'Pep'"
            ]
          },
          "metadata": {},
          "execution_count": 24
        }
      ]
    },
    {
      "cell_type": "code",
      "source": [
        "string[-3:-9:-1]"
      ],
      "metadata": {
        "colab": {
          "base_uri": "https://localhost:8080/",
          "height": 35
        },
        "id": "8qEexH4-nFxR",
        "outputId": "7d65c495-061c-445a-f61c-f7b8b4ccef8a"
      },
      "execution_count": null,
      "outputs": [
        {
          "output_type": "execute_result",
          "data": {
            "application/vnd.google.colaboratory.intrinsic+json": {
              "type": "string"
            },
            "text/plain": [
              "'idocpe'"
            ]
          },
          "metadata": {},
          "execution_count": 25
        }
      ]
    },
    {
      "cell_type": "code",
      "source": [
        " string[:-4:-1]"
      ],
      "metadata": {
        "colab": {
          "base_uri": "https://localhost:8080/",
          "height": 35
        },
        "id": "HLZjyEnWnqdl",
        "outputId": "dbe227d1-060c-41fa-a198-5548c6533258"
      },
      "execution_count": null,
      "outputs": [
        {
          "output_type": "execute_result",
          "data": {
            "application/vnd.google.colaboratory.intrinsic+json": {
              "type": "string"
            },
            "text/plain": [
              "'gni'"
            ]
          },
          "metadata": {},
          "execution_count": 26
        }
      ]
    },
    {
      "cell_type": "code",
      "source": [
        "string[::-1]"
      ],
      "metadata": {
        "colab": {
          "base_uri": "https://localhost:8080/",
          "height": 35
        },
        "id": "tyAm-WaroHET",
        "outputId": "2488456e-201d-4701-ea60-9771230b89bc"
      },
      "execution_count": null,
      "outputs": [
        {
          "output_type": "execute_result",
          "data": {
            "application/vnd.google.colaboratory.intrinsic+json": {
              "type": "string"
            },
            "text/plain": [
              "'gnidocpeP'"
            ]
          },
          "metadata": {},
          "execution_count": 27
        }
      ]
    },
    {
      "cell_type": "code",
      "source": [
        "string[:4:-1]"
      ],
      "metadata": {
        "colab": {
          "base_uri": "https://localhost:8080/",
          "height": 35
        },
        "id": "5i_1D5uToLl5",
        "outputId": "8a1c20f1-58aa-4d31-a68e-307dac527108"
      },
      "execution_count": null,
      "outputs": [
        {
          "output_type": "execute_result",
          "data": {
            "application/vnd.google.colaboratory.intrinsic+json": {
              "type": "string"
            },
            "text/plain": [
              "'gnid'"
            ]
          },
          "metadata": {},
          "execution_count": 28
        }
      ]
    },
    {
      "cell_type": "code",
      "source": [
        "a= \"aditya\""
      ],
      "metadata": {
        "id": "4AMUtNO1pHGv"
      },
      "execution_count": null,
      "outputs": []
    },
    {
      "cell_type": "code",
      "source": [
        "print(type(a))"
      ],
      "metadata": {
        "colab": {
          "base_uri": "https://localhost:8080/"
        },
        "id": "aAM8pS99pP7z",
        "outputId": "0816c903-a86b-4cd6-ffb9-829f0f6ca209"
      },
      "execution_count": null,
      "outputs": [
        {
          "output_type": "stream",
          "name": "stdout",
          "text": [
            "<class 'str'>\n"
          ]
        }
      ]
    },
    {
      "cell_type": "code",
      "source": [
        "string[-1::]"
      ],
      "metadata": {
        "colab": {
          "base_uri": "https://localhost:8080/",
          "height": 35
        },
        "id": "cBS5uxDKpSa1",
        "outputId": "7a2ec43d-e132-403b-fc6a-ce511f4af616"
      },
      "execution_count": null,
      "outputs": [
        {
          "output_type": "execute_result",
          "data": {
            "application/vnd.google.colaboratory.intrinsic+json": {
              "type": "string"
            },
            "text/plain": [
              "'g'"
            ]
          },
          "metadata": {},
          "execution_count": 32
        }
      ]
    },
    {
      "cell_type": "code",
      "source": [
        "for ch in string:\n",
        "  print(ch)\n"
      ],
      "metadata": {
        "colab": {
          "base_uri": "https://localhost:8080/"
        },
        "id": "FsIAwQ1VpmSI",
        "outputId": "30166474-8083-4981-b799-94b59d1b06f8"
      },
      "execution_count": null,
      "outputs": [
        {
          "output_type": "stream",
          "name": "stdout",
          "text": [
            "P\n",
            "e\n",
            "p\n",
            "c\n",
            "o\n",
            "d\n",
            "i\n",
            "n\n",
            "g\n"
          ]
        }
      ]
    },
    {
      "cell_type": "code",
      "source": [
        " print(\"Pep\",end=\"\")\n",
        " print(\"coding\")"
      ],
      "metadata": {
        "colab": {
          "base_uri": "https://localhost:8080/"
        },
        "id": "jNJkgOOqp215",
        "outputId": "965486d0-ead5-482d-a244-108083070971"
      },
      "execution_count": null,
      "outputs": [
        {
          "output_type": "stream",
          "name": "stdout",
          "text": [
            "Pepcoding\n"
          ]
        }
      ]
    },
    {
      "cell_type": "code",
      "source": [
        "if \"coding\" in string:\n",
        "  print(\"Hello Pepcoding\")"
      ],
      "metadata": {
        "colab": {
          "base_uri": "https://localhost:8080/"
        },
        "id": "foOuweOlqid8",
        "outputId": "f3d16ca3-65e9-472b-cb29-d4f9b54014c6"
      },
      "execution_count": null,
      "outputs": [
        {
          "output_type": "stream",
          "name": "stdout",
          "text": [
            "Hello Pepcoding\n"
          ]
        }
      ]
    },
    {
      "cell_type": "code",
      "source": [
        "string.upper()"
      ],
      "metadata": {
        "colab": {
          "base_uri": "https://localhost:8080/",
          "height": 35
        },
        "id": "sWwwbI-Yq22r",
        "outputId": "d102b283-a131-4ed4-ea69-670d1951f2d8"
      },
      "execution_count": null,
      "outputs": [
        {
          "output_type": "execute_result",
          "data": {
            "application/vnd.google.colaboratory.intrinsic+json": {
              "type": "string"
            },
            "text/plain": [
              "'PEPCODING'"
            ]
          },
          "metadata": {},
          "execution_count": 38
        }
      ]
    },
    {
      "cell_type": "code",
      "source": [
        "string.lower()"
      ],
      "metadata": {
        "colab": {
          "base_uri": "https://localhost:8080/",
          "height": 35
        },
        "id": "EG1NljSBq5fJ",
        "outputId": "bf5ded47-3721-4a6a-9b05-b7d691013f30"
      },
      "execution_count": null,
      "outputs": [
        {
          "output_type": "execute_result",
          "data": {
            "application/vnd.google.colaboratory.intrinsic+json": {
              "type": "string"
            },
            "text/plain": [
              "'pepcoding'"
            ]
          },
          "metadata": {},
          "execution_count": 39
        }
      ]
    },
    {
      "cell_type": "code",
      "source": [
        "marks = 55"
      ],
      "metadata": {
        "id": "kMpePEs2rK8O"
      },
      "execution_count": null,
      "outputs": []
    },
    {
      "cell_type": "code",
      "source": [
        "if marks>90:\n",
        "  print(\"A Grade\")\n",
        "elif marks>80:\n",
        "    print(\"B Grade\")\n",
        "else:\n",
        "    print(\"C Grade\")"
      ],
      "metadata": {
        "colab": {
          "base_uri": "https://localhost:8080/"
        },
        "id": "AViHFTL4r3r9",
        "outputId": "9d629662-ecf6-4501-e825-f306a49e924a"
      },
      "execution_count": null,
      "outputs": [
        {
          "output_type": "stream",
          "name": "stdout",
          "text": [
            "C Grade\n"
          ]
        }
      ]
    },
    {
      "cell_type": "code",
      "source": [
        " for i in range(10):\n",
        "   print(i)"
      ],
      "metadata": {
        "colab": {
          "base_uri": "https://localhost:8080/"
        },
        "id": "dg791K5WsJgg",
        "outputId": "f69f7079-9195-451b-dc9e-e0c88a12a561"
      },
      "execution_count": null,
      "outputs": [
        {
          "output_type": "stream",
          "name": "stdout",
          "text": [
            "0\n",
            "1\n",
            "2\n",
            "3\n",
            "4\n",
            "5\n",
            "6\n",
            "7\n",
            "8\n",
            "9\n"
          ]
        }
      ]
    },
    {
      "cell_type": "code",
      "source": [
        "for i in range(5):\n",
        "  print(i*i)"
      ],
      "metadata": {
        "colab": {
          "base_uri": "https://localhost:8080/"
        },
        "id": "Yjr8EV7-scs3",
        "outputId": "98066fe1-c496-4313-d6d3-42b812c780c2"
      },
      "execution_count": null,
      "outputs": [
        {
          "output_type": "stream",
          "name": "stdout",
          "text": [
            "0\n",
            "1\n",
            "4\n",
            "9\n",
            "16\n"
          ]
        }
      ]
    },
    {
      "cell_type": "code",
      "source": [
        "for i in range(5):\n",
        "  print(str(i)+\"Hello\")\n",
        "  if i == 2:\n",
        "    break"
      ],
      "metadata": {
        "colab": {
          "base_uri": "https://localhost:8080/"
        },
        "id": "WXvgertFsuu2",
        "outputId": "1fde5b1b-284d-49e0-d373-4fc9b172500d"
      },
      "execution_count": null,
      "outputs": [
        {
          "output_type": "stream",
          "name": "stdout",
          "text": [
            "0Hello\n",
            "1Hello\n",
            "2Hello\n"
          ]
        }
      ]
    },
    {
      "cell_type": "code",
      "source": [
        "for i in range(5):\n",
        "  print(str(i) + \" Hello \")\n",
        "  if i == 2:\n",
        "    continue"
      ],
      "metadata": {
        "colab": {
          "base_uri": "https://localhost:8080/"
        },
        "id": "O7rPmZKStwTP",
        "outputId": "68bf8ce2-77e1-4ad2-9749-92172c49c31b"
      },
      "execution_count": null,
      "outputs": [
        {
          "output_type": "stream",
          "name": "stdout",
          "text": [
            "0 Hello \n",
            "1 Hello \n",
            "2 Hello \n",
            "3 Hello \n",
            "4 Hello \n"
          ]
        }
      ]
    },
    {
      "cell_type": "code",
      "source": [
        ""
      ],
      "metadata": {
        "id": "V8yezLnruIVf"
      },
      "execution_count": null,
      "outputs": []
    },
    {
      "cell_type": "markdown",
      "source": [
        "#LIST"
      ],
      "metadata": {
        "id": "1MlVaJMIwOsG"
      }
    },
    {
      "cell_type": "code",
      "source": [
        "lst = [1,2,3,4,5]"
      ],
      "metadata": {
        "id": "2AEpM2IqwQwX"
      },
      "execution_count": null,
      "outputs": []
    },
    {
      "cell_type": "code",
      "source": [
        "print(type(lst))"
      ],
      "metadata": {
        "colab": {
          "base_uri": "https://localhost:8080/"
        },
        "id": "o_YMaAZGwd-N",
        "outputId": "4ab8f85f-5b54-4f15-f2f1-ee7d97c059ac"
      },
      "execution_count": null,
      "outputs": [
        {
          "output_type": "stream",
          "name": "stdout",
          "text": [
            "<class 'list'>\n"
          ]
        }
      ]
    },
    {
      "cell_type": "code",
      "source": [
        "lst = [1,2,3,4,5,\"pepcoding\"]"
      ],
      "metadata": {
        "id": "0LZ7hX6Pwfmv"
      },
      "execution_count": null,
      "outputs": []
    },
    {
      "cell_type": "code",
      "source": [
        "print(type(lst))"
      ],
      "metadata": {
        "colab": {
          "base_uri": "https://localhost:8080/"
        },
        "id": "FaB9Nexf7SEl",
        "outputId": "bd17f7f2-749e-4a66-88a9-4ab4e919319a"
      },
      "execution_count": null,
      "outputs": [
        {
          "output_type": "stream",
          "name": "stdout",
          "text": [
            "<class 'list'>\n"
          ]
        }
      ]
    },
    {
      "cell_type": "code",
      "source": [
        "lst.append(\"8\")"
      ],
      "metadata": {
        "id": "dowbtRgt7T8R"
      },
      "execution_count": null,
      "outputs": []
    },
    {
      "cell_type": "code",
      "source": [
        "print(lst)"
      ],
      "metadata": {
        "colab": {
          "base_uri": "https://localhost:8080/"
        },
        "id": "F3T0-ufB7ZDO",
        "outputId": "52731910-ed77-45f6-a268-15fcec2e5d3e"
      },
      "execution_count": null,
      "outputs": [
        {
          "output_type": "stream",
          "name": "stdout",
          "text": [
            "[55, 2, 'ABC', 3, 4, 5, 'pepcoding', '8']\n"
          ]
        }
      ]
    },
    {
      "cell_type": "code",
      "source": [
        "lst[0] = 55"
      ],
      "metadata": {
        "id": "3Qz5Ruga7bvR"
      },
      "execution_count": null,
      "outputs": []
    },
    {
      "cell_type": "code",
      "source": [
        "lst2 = [1,2,3]"
      ],
      "metadata": {
        "id": "i4DMw5Vy8EQr"
      },
      "execution_count": null,
      "outputs": []
    },
    {
      "cell_type": "code",
      "source": [
        "lst.append(lst2)"
      ],
      "metadata": {
        "id": "Id2bNU3g8lKr"
      },
      "execution_count": null,
      "outputs": []
    },
    {
      "cell_type": "code",
      "source": [
        "lst"
      ],
      "metadata": {
        "colab": {
          "base_uri": "https://localhost:8080/"
        },
        "id": "LlEsAXRr8p3y",
        "outputId": "d5862ccb-0c3e-4b57-c079-6f453db267c6"
      },
      "execution_count": null,
      "outputs": [
        {
          "output_type": "execute_result",
          "data": {
            "text/plain": [
              "[55, 2, 'ABC', 3, 4, 5, 'pepcoding', '8']"
            ]
          },
          "metadata": {},
          "execution_count": 21
        }
      ]
    },
    {
      "cell_type": "code",
      "source": [
        "lst.insert(2,\"ABC\")"
      ],
      "metadata": {
        "id": "5_Ge4lP-8qsc"
      },
      "execution_count": null,
      "outputs": []
    },
    {
      "cell_type": "code",
      "source": [
        "lst"
      ],
      "metadata": {
        "colab": {
          "base_uri": "https://localhost:8080/"
        },
        "id": "4EIBpH5p9mye",
        "outputId": "8454e440-8c19-40ee-8b65-5786d4f0d158"
      },
      "execution_count": null,
      "outputs": [
        {
          "output_type": "execute_result",
          "data": {
            "text/plain": [
              "[55, 2, 'ABC', 3, 4, 5, 'pepcoding', [1, 2, 3]]"
            ]
          },
          "metadata": {},
          "execution_count": 16
        }
      ]
    },
    {
      "cell_type": "code",
      "source": [
        "for i in lst:\n",
        "  print(i)"
      ],
      "metadata": {
        "colab": {
          "base_uri": "https://localhost:8080/"
        },
        "id": "kYpreqBI9osq",
        "outputId": "bf466225-0255-4dbd-f423-a856ef8ce268"
      },
      "execution_count": null,
      "outputs": [
        {
          "output_type": "stream",
          "name": "stdout",
          "text": [
            "55\n",
            "2\n",
            "ABC\n",
            "3\n",
            "4\n",
            "5\n",
            "pepcoding\n",
            "[1, 2, 3]\n"
          ]
        }
      ]
    },
    {
      "cell_type": "code",
      "source": [
        "print(lst.pop())"
      ],
      "metadata": {
        "colab": {
          "base_uri": "https://localhost:8080/"
        },
        "id": "J1fZMwBw9uP-",
        "outputId": "74f2d81c-a66a-4405-b1a4-8f671b9fdf9a"
      },
      "execution_count": null,
      "outputs": [
        {
          "output_type": "stream",
          "name": "stdout",
          "text": [
            "[1, 2, 3]\n"
          ]
        }
      ]
    },
    {
      "cell_type": "code",
      "source": [
        ""
      ],
      "metadata": {
        "id": "Ca_-4CjF90F7"
      },
      "execution_count": null,
      "outputs": []
    },
    {
      "cell_type": "markdown",
      "source": [
        "#Tuple"
      ],
      "metadata": {
        "id": "qhgMwvIvALYA"
      }
    },
    {
      "cell_type": "code",
      "source": [
        "tup = (1,2,3,\"Hello\")\n",
        "print(type(tup))"
      ],
      "metadata": {
        "colab": {
          "base_uri": "https://localhost:8080/"
        },
        "id": "h-yfbqscANYB",
        "outputId": "6038152a-dbf5-4c48-ae39-11800d82b0ae"
      },
      "execution_count": null,
      "outputs": [
        {
          "output_type": "stream",
          "name": "stdout",
          "text": [
            "<class 'tuple'>\n"
          ]
        }
      ]
    },
    {
      "cell_type": "code",
      "source": [
        "tup = (1)\n",
        "print(type(tup))"
      ],
      "metadata": {
        "colab": {
          "base_uri": "https://localhost:8080/"
        },
        "id": "VgPk32naAb-U",
        "outputId": "7f32137e-9b10-4ba8-ae78-245f39a7cd83"
      },
      "execution_count": null,
      "outputs": [
        {
          "output_type": "stream",
          "name": "stdout",
          "text": [
            "<class 'int'>\n"
          ]
        }
      ]
    },
    {
      "cell_type": "code",
      "source": [
        "tup = (1,)"
      ],
      "metadata": {
        "id": "EE_B_ZN4Af9N"
      },
      "execution_count": null,
      "outputs": []
    },
    {
      "cell_type": "code",
      "source": [
        "print(type(tup))"
      ],
      "metadata": {
        "colab": {
          "base_uri": "https://localhost:8080/"
        },
        "id": "c_lTL6sIBBO7",
        "outputId": "37a10ef4-51df-4777-a3aa-6fa6e0f8d376"
      },
      "execution_count": null,
      "outputs": [
        {
          "output_type": "stream",
          "name": "stdout",
          "text": [
            "<class 'tuple'>\n"
          ]
        }
      ]
    },
    {
      "cell_type": "code",
      "source": [
        "for i in tup:\n",
        "  print(i)"
      ],
      "metadata": {
        "colab": {
          "base_uri": "https://localhost:8080/"
        },
        "id": "9Txi-Y1KBC9k",
        "outputId": "b1cc0ce8-f75a-4f99-ff6d-0b8235e8d6cf"
      },
      "execution_count": null,
      "outputs": [
        {
          "output_type": "stream",
          "name": "stdout",
          "text": [
            "1\n",
            "2\n",
            "3\n",
            "Hello\n"
          ]
        }
      ]
    },
    {
      "cell_type": "code",
      "source": [
        ""
      ],
      "metadata": {
        "id": "diIWb9NaBom-"
      },
      "execution_count": null,
      "outputs": []
    },
    {
      "cell_type": "markdown",
      "source": [
        "#Set"
      ],
      "metadata": {
        "id": "hk8x5Y7tEmdI"
      }
    },
    {
      "cell_type": "code",
      "source": [
        "st = {\"Apple\",\"Mango\",\"Peineapple\"}"
      ],
      "metadata": {
        "id": "mbAyigjSEn7C"
      },
      "execution_count": null,
      "outputs": []
    },
    {
      "cell_type": "code",
      "source": [
        "print(type(st))"
      ],
      "metadata": {
        "colab": {
          "base_uri": "https://localhost:8080/"
        },
        "id": "AgkhAOS2ExBj",
        "outputId": "fa0d3901-8e72-42df-eec6-249ec43571fc"
      },
      "execution_count": null,
      "outputs": [
        {
          "output_type": "stream",
          "name": "stdout",
          "text": [
            "<class 'set'>\n"
          ]
        }
      ]
    },
    {
      "cell_type": "code",
      "source": [
        "st = {\"Apple\",\"Mango\",\"Pineapple\",1,2,3}"
      ],
      "metadata": {
        "id": "rQ77VVbeEz5i"
      },
      "execution_count": null,
      "outputs": []
    },
    {
      "cell_type": "code",
      "source": [
        "st"
      ],
      "metadata": {
        "colab": {
          "base_uri": "https://localhost:8080/"
        },
        "id": "qCCFTIYXFbSV",
        "outputId": "e56dbcea-2548-4a0b-d9dd-0580c30bd71f"
      },
      "execution_count": null,
      "outputs": [
        {
          "output_type": "execute_result",
          "data": {
            "text/plain": [
              "{1, 2, 3, 'Apple', 'Mango', 'Pineapple'}"
            ]
          },
          "metadata": {},
          "execution_count": 36
        }
      ]
    },
    {
      "cell_type": "code",
      "source": [
        "st.add(\"Orange\")"
      ],
      "metadata": {
        "id": "nIi6TQlPFcXX"
      },
      "execution_count": null,
      "outputs": []
    },
    {
      "cell_type": "code",
      "source": [
        "st"
      ],
      "metadata": {
        "colab": {
          "base_uri": "https://localhost:8080/"
        },
        "id": "MU35yKrlI748",
        "outputId": "8cc3b457-20a4-4584-9dc3-6158e11ccac4"
      },
      "execution_count": null,
      "outputs": [
        {
          "output_type": "execute_result",
          "data": {
            "text/plain": [
              "{1, 2, 3, 'Apple', 'Mango', 'Orange', 'Pineapple'}"
            ]
          },
          "metadata": {},
          "execution_count": 38
        }
      ]
    },
    {
      "cell_type": "code",
      "source": [
        "for i in st:\n",
        "  print(i)"
      ],
      "metadata": {
        "colab": {
          "base_uri": "https://localhost:8080/"
        },
        "id": "TMyTeWx4I9dG",
        "outputId": "47d3a65c-90c7-43e9-c13b-211f95c0545e"
      },
      "execution_count": null,
      "outputs": [
        {
          "output_type": "stream",
          "name": "stdout",
          "text": [
            "Apple\n",
            "2\n",
            "1\n",
            "3\n",
            "Orange\n",
            "Pineapple\n",
            "Mango\n"
          ]
        }
      ]
    },
    {
      "cell_type": "code",
      "source": [
        "set1 = {1,2,3,4,5}"
      ],
      "metadata": {
        "id": "PNCiA44ZJj_C"
      },
      "execution_count": null,
      "outputs": []
    },
    {
      "cell_type": "code",
      "source": [
        "set2 = {3,4,5,6,7,8,9}"
      ],
      "metadata": {
        "id": "YYR8DHRmKU65"
      },
      "execution_count": null,
      "outputs": []
    },
    {
      "cell_type": "code",
      "source": [
        "print(set1.union(set2))"
      ],
      "metadata": {
        "colab": {
          "base_uri": "https://localhost:8080/"
        },
        "id": "jhnBQIPpKXn0",
        "outputId": "5ee6c07d-9325-47ac-81ab-038926d46523"
      },
      "execution_count": null,
      "outputs": [
        {
          "output_type": "stream",
          "name": "stdout",
          "text": [
            "{1, 2, 3, 4, 5, 6, 7, 8, 9}\n"
          ]
        }
      ]
    },
    {
      "cell_type": "code",
      "source": [
        "lst = [1,2,3,4,5]"
      ],
      "metadata": {
        "id": "aUmIufVDKatN"
      },
      "execution_count": null,
      "outputs": []
    },
    {
      "cell_type": "code",
      "source": [
        "st = set(lst)"
      ],
      "metadata": {
        "id": "G46iM2bcLQsE"
      },
      "execution_count": null,
      "outputs": []
    },
    {
      "cell_type": "code",
      "source": [
        "st"
      ],
      "metadata": {
        "colab": {
          "base_uri": "https://localhost:8080/"
        },
        "id": "tkijTY0_LSlk",
        "outputId": "3b915c06-489b-48f8-a04e-f5ff4e8292b6"
      },
      "execution_count": null,
      "outputs": [
        {
          "output_type": "execute_result",
          "data": {
            "text/plain": [
              "{1, 2, 3, 4, 5}"
            ]
          },
          "metadata": {},
          "execution_count": 45
        }
      ]
    },
    {
      "cell_type": "code",
      "source": [
        ""
      ],
      "metadata": {
        "id": "495P_nxoLTcV"
      },
      "execution_count": null,
      "outputs": []
    },
    {
      "cell_type": "markdown",
      "source": [
        "#Dictionary"
      ],
      "metadata": {
        "id": "8n_mYhrG2CL_"
      }
    },
    {
      "cell_type": "code",
      "source": [
        "dict1={\"Name\":\"Aditya\",\n",
        "       \"Team\":\"Hotdev\"}"
      ],
      "metadata": {
        "id": "RHKgsrW23Lgq"
      },
      "execution_count": null,
      "outputs": []
    },
    {
      "cell_type": "code",
      "source": [
        "dict1"
      ],
      "metadata": {
        "colab": {
          "base_uri": "https://localhost:8080/"
        },
        "id": "BOP8Nv4S3Y2j",
        "outputId": "a1493e4e-e5a5-4307-95cb-bb28fc70c2d4"
      },
      "execution_count": null,
      "outputs": [
        {
          "output_type": "execute_result",
          "data": {
            "text/plain": [
              "{'Name': 'Aditya', 'Team': 'Hotdev'}"
            ]
          },
          "metadata": {},
          "execution_count": 6
        }
      ]
    },
    {
      "cell_type": "code",
      "source": [
        "print(type(dict1))"
      ],
      "metadata": {
        "colab": {
          "base_uri": "https://localhost:8080/"
        },
        "id": "WTzudnpO3cdk",
        "outputId": "7af74ff8-d785-4617-c892-16ffbf6e378b"
      },
      "execution_count": null,
      "outputs": [
        {
          "output_type": "stream",
          "name": "stdout",
          "text": [
            "<class 'dict'>\n"
          ]
        }
      ]
    },
    {
      "cell_type": "code",
      "source": [
        "  dict2={\n",
        "      'A':1,\n",
        "      'c':'Aditya',\n",
        "      'B':[1,2,3],\n",
        "      'A':69\n",
        "  }"
      ],
      "metadata": {
        "id": "ai4igEvr3fbH"
      },
      "execution_count": null,
      "outputs": []
    },
    {
      "cell_type": "code",
      "source": [
        "dict2"
      ],
      "metadata": {
        "colab": {
          "base_uri": "https://localhost:8080/"
        },
        "id": "MSgaKhCp5C1C",
        "outputId": "82872a7d-41e1-4fd1-bff4-7fe499caf985"
      },
      "execution_count": null,
      "outputs": [
        {
          "output_type": "execute_result",
          "data": {
            "text/plain": [
              "{'A': 69, 'B': [1, 2, 3], 'c': 'Aditya'}"
            ]
          },
          "metadata": {},
          "execution_count": 15
        }
      ]
    },
    {
      "cell_type": "code",
      "source": [
        "dict2{0}"
      ],
      "metadata": {
        "colab": {
          "base_uri": "https://localhost:8080/",
          "height": 130
        },
        "id": "rkLos1EZ5EL0",
        "outputId": "975e9ea1-262f-4bd8-e364-6720073a5422"
      },
      "execution_count": null,
      "outputs": [
        {
          "output_type": "error",
          "ename": "SyntaxError",
          "evalue": "ignored",
          "traceback": [
            "\u001b[0;36m  File \u001b[0;32m\"<ipython-input-11-282761435f22>\"\u001b[0;36m, line \u001b[0;32m1\u001b[0m\n\u001b[0;31m    dict2{0}\u001b[0m\n\u001b[0m         ^\u001b[0m\n\u001b[0;31mSyntaxError\u001b[0m\u001b[0;31m:\u001b[0m invalid syntax\n"
          ]
        }
      ]
    },
    {
      "cell_type": "code",
      "source": [
        "dict2[0]"
      ],
      "metadata": {
        "colab": {
          "base_uri": "https://localhost:8080/",
          "height": 165
        },
        "id": "dnxUgFMP5vOw",
        "outputId": "95c6546b-5af1-4842-cd43-ae849dc3754d"
      },
      "execution_count": null,
      "outputs": [
        {
          "output_type": "error",
          "ename": "KeyError",
          "evalue": "ignored",
          "traceback": [
            "\u001b[0;31m---------------------------------------------------------------------------\u001b[0m",
            "\u001b[0;31mKeyError\u001b[0m                                  Traceback (most recent call last)",
            "\u001b[0;32m<ipython-input-12-6ba3e953ab4c>\u001b[0m in \u001b[0;36m<module>\u001b[0;34m()\u001b[0m\n\u001b[0;32m----> 1\u001b[0;31m \u001b[0mdict2\u001b[0m\u001b[0;34m[\u001b[0m\u001b[0;36m0\u001b[0m\u001b[0;34m]\u001b[0m\u001b[0;34m\u001b[0m\u001b[0;34m\u001b[0m\u001b[0m\n\u001b[0m",
            "\u001b[0;31mKeyError\u001b[0m: 0"
          ]
        }
      ]
    },
    {
      "cell_type": "code",
      "source": [
        "dict2[\"A\"]"
      ],
      "metadata": {
        "colab": {
          "base_uri": "https://localhost:8080/"
        },
        "id": "JaYWCiDR5xGT",
        "outputId": "3d0a271a-32ca-426c-868a-aa91e1901226"
      },
      "execution_count": null,
      "outputs": [
        {
          "output_type": "execute_result",
          "data": {
            "text/plain": [
              "1"
            ]
          },
          "metadata": {},
          "execution_count": 13
        }
      ]
    },
    {
      "cell_type": "code",
      "source": [
        "print(dict2['B'][1])"
      ],
      "metadata": {
        "colab": {
          "base_uri": "https://localhost:8080/"
        },
        "id": "yNIuPXlK6wI-",
        "outputId": "a269aa1d-eee6-4ef2-fdcb-cbbbf9cdf102"
      },
      "execution_count": null,
      "outputs": [
        {
          "output_type": "stream",
          "name": "stdout",
          "text": [
            "2\n"
          ]
        }
      ]
    },
    {
      "cell_type": "code",
      "source": [
        "dict2.keys()"
      ],
      "metadata": {
        "colab": {
          "base_uri": "https://localhost:8080/"
        },
        "id": "iaxdIM7f7Wap",
        "outputId": "2caccc95-9719-4942-c505-50cedb0bdaab"
      },
      "execution_count": null,
      "outputs": [
        {
          "output_type": "execute_result",
          "data": {
            "text/plain": [
              "dict_keys(['A', 'c', 'B'])"
            ]
          },
          "metadata": {},
          "execution_count": 2
        }
      ]
    },
    {
      "cell_type": "code",
      "source": [
        "dict2.values()"
      ],
      "metadata": {
        "colab": {
          "base_uri": "https://localhost:8080/"
        },
        "id": "-cONeUCxkt85",
        "outputId": "dd253609-286a-4ae2-d3dd-32d670a26a7e"
      },
      "execution_count": null,
      "outputs": [
        {
          "output_type": "execute_result",
          "data": {
            "text/plain": [
              "dict_values([69, 'Aditya', [1, 2, 3]])"
            ]
          },
          "metadata": {},
          "execution_count": 3
        }
      ]
    },
    {
      "cell_type": "code",
      "source": [
        "for i in dict2:\n",
        "  print(i)"
      ],
      "metadata": {
        "colab": {
          "base_uri": "https://localhost:8080/"
        },
        "id": "SDpHvfILkwGF",
        "outputId": "e2507f79-bb3b-48b9-98ed-bbd7040178ba"
      },
      "execution_count": null,
      "outputs": [
        {
          "output_type": "stream",
          "name": "stdout",
          "text": [
            "A\n",
            "c\n",
            "B\n"
          ]
        }
      ]
    },
    {
      "cell_type": "code",
      "source": [
        "for i in dict2.keys():\n",
        "  print(i)"
      ],
      "metadata": {
        "colab": {
          "base_uri": "https://localhost:8080/"
        },
        "id": "xnrwlfZBlHbh",
        "outputId": "d1df5ac5-a24f-416c-da84-1453c6a27f94"
      },
      "execution_count": null,
      "outputs": [
        {
          "output_type": "stream",
          "name": "stdout",
          "text": [
            "A\n",
            "c\n",
            "B\n"
          ]
        }
      ]
    },
    {
      "cell_type": "code",
      "source": [
        "for i in dict2.values():\n",
        "  print(i)"
      ],
      "metadata": {
        "colab": {
          "base_uri": "https://localhost:8080/"
        },
        "id": "SJ9bSX4clasV",
        "outputId": "d670515a-00a3-40f1-bed7-9885efeb13dc"
      },
      "execution_count": null,
      "outputs": [
        {
          "output_type": "stream",
          "name": "stdout",
          "text": [
            "69\n",
            "Aditya\n",
            "[1, 2, 3]\n"
          ]
        }
      ]
    },
    {
      "cell_type": "code",
      "source": [
        "for i,j in dict2.items():\n",
        "  print(i,j)"
      ],
      "metadata": {
        "colab": {
          "base_uri": "https://localhost:8080/"
        },
        "id": "QTKxvGzOloWr",
        "outputId": "9492d9a2-6daf-47f8-d0c2-755fa2ea1552"
      },
      "execution_count": null,
      "outputs": [
        {
          "output_type": "stream",
          "name": "stdout",
          "text": [
            "A 69\n",
            "c Aditya\n",
            "B [1, 2, 3]\n"
          ]
        }
      ]
    },
    {
      "cell_type": "code",
      "source": [
        "dict2.items()"
      ],
      "metadata": {
        "colab": {
          "base_uri": "https://localhost:8080/"
        },
        "id": "4pNpdV5amVr9",
        "outputId": "b6a55a10-0a46-4410-8bb5-31410638f35b"
      },
      "execution_count": null,
      "outputs": [
        {
          "output_type": "execute_result",
          "data": {
            "text/plain": [
              "dict_items([('A', 69), ('c', 'Aditya'), ('B', [1, 2, 3])])"
            ]
          },
          "metadata": {},
          "execution_count": 12
        }
      ]
    },
    {
      "cell_type": "code",
      "source": [
        "dict4 = {val:val*val for val in range(1,6)}"
      ],
      "metadata": {
        "id": "mho4_laYnCTz"
      },
      "execution_count": null,
      "outputs": []
    },
    {
      "cell_type": "code",
      "source": [
        "dict4"
      ],
      "metadata": {
        "colab": {
          "base_uri": "https://localhost:8080/"
        },
        "id": "mprpZGlMptWy",
        "outputId": "ed992d6e-a9e7-4095-973c-4ed8f959d764"
      },
      "execution_count": null,
      "outputs": [
        {
          "output_type": "execute_result",
          "data": {
            "text/plain": [
              "{1: 1, 2: 4, 3: 9, 4: 16, 5: 25}"
            ]
          },
          "metadata": {},
          "execution_count": 15
        }
      ]
    },
    {
      "cell_type": "code",
      "source": [
        "sum1 = sum(dict4.values())"
      ],
      "metadata": {
        "id": "MJcqvN_Jp7TH"
      },
      "execution_count": null,
      "outputs": []
    },
    {
      "cell_type": "code",
      "source": [
        "sum1"
      ],
      "metadata": {
        "colab": {
          "base_uri": "https://localhost:8080/"
        },
        "id": "SB-R_w_nrFoO",
        "outputId": "e1359cce-2688-4265-9f57-9a2ef1933c6a"
      },
      "execution_count": null,
      "outputs": [
        {
          "output_type": "execute_result",
          "data": {
            "text/plain": [
              "55"
            ]
          },
          "metadata": {},
          "execution_count": 17
        }
      ]
    },
    {
      "cell_type": "code",
      "source": [
        "dict5=dict4"
      ],
      "metadata": {
        "id": "4YFWQRiirGuD"
      },
      "execution_count": null,
      "outputs": []
    },
    {
      "cell_type": "code",
      "source": [
        "dict5"
      ],
      "metadata": {
        "colab": {
          "base_uri": "https://localhost:8080/"
        },
        "id": "Vgq4bUJItIHv",
        "outputId": "b0c52ab5-b4a1-45ba-b6ec-8db3663b6d18"
      },
      "execution_count": null,
      "outputs": [
        {
          "output_type": "execute_result",
          "data": {
            "text/plain": [
              "{1: 1, 2: 4, 3: 9, 4: 16, 5: 25}"
            ]
          },
          "metadata": {},
          "execution_count": 19
        }
      ]
    },
    {
      "cell_type": "code",
      "source": [
        "dict5=dict()"
      ],
      "metadata": {
        "id": "_jRIb-PJtI_5"
      },
      "execution_count": null,
      "outputs": []
    },
    {
      "cell_type": "code",
      "source": [
        "dict5"
      ],
      "metadata": {
        "colab": {
          "base_uri": "https://localhost:8080/"
        },
        "id": "W9yCEqsRtMH7",
        "outputId": "6ecbe8e0-357c-42dc-aaf5-64ad0045f1a6"
      },
      "execution_count": null,
      "outputs": [
        {
          "output_type": "execute_result",
          "data": {
            "text/plain": [
              "{}"
            ]
          },
          "metadata": {},
          "execution_count": 21
        }
      ]
    },
    {
      "cell_type": "code",
      "source": [
        ""
      ],
      "metadata": {
        "id": "SCvFh_gwtNNH"
      },
      "execution_count": null,
      "outputs": []
    },
    {
      "cell_type": "markdown",
      "source": [
        "#Exceptional Handling"
      ],
      "metadata": {
        "id": "z9Sy7cYUvwIi"
      }
    },
    {
      "cell_type": "code",
      "source": [
        "try:\n",
        "  a=5\n",
        "  b=6\n",
        "  c=a/0\n",
        "except:\n",
        "    print(\"Zero divide\")\n",
        "finally:\n",
        "  print(\"Im here\")"
      ],
      "metadata": {
        "colab": {
          "base_uri": "https://localhost:8080/"
        },
        "id": "BM2_jPqzvz60",
        "outputId": "f38c9f59-10fb-4828-bcf0-f55e249feb90"
      },
      "execution_count": null,
      "outputs": [
        {
          "output_type": "stream",
          "name": "stdout",
          "text": [
            "Zero divide\n",
            "Im here\n"
          ]
        }
      ]
    },
    {
      "cell_type": "code",
      "source": [
        ""
      ],
      "metadata": {
        "id": "eoOADbZwv-Op"
      },
      "execution_count": null,
      "outputs": []
    },
    {
      "cell_type": "markdown",
      "source": [
        "##CLASS"
      ],
      "metadata": {
        "id": "BBmvP0-8hrZy"
      }
    },
    {
      "cell_type": "code",
      "source": [
        "class Phone:\n",
        "  a = 10\n",
        "  b = 5\n",
        "  def initialization(aditya,X):\n",
        "    aditya.a=X\n",
        "    aditya.d=X\n",
        "  def video(self):\n",
        "    print('The phone has v call feature')\n",
        "    print(self.a)"
      ],
      "metadata": {
        "id": "tGElM7sHhtVE"
      },
      "execution_count": null,
      "outputs": []
    },
    {
      "cell_type": "code",
      "source": [
        "p1=Phone()"
      ],
      "metadata": {
        "id": "zT_pFLtth5HT"
      },
      "execution_count": null,
      "outputs": []
    },
    {
      "cell_type": "code",
      "source": [
        "p1.initialization(20)"
      ],
      "metadata": {
        "id": "a3cN83wEh61y"
      },
      "execution_count": null,
      "outputs": []
    },
    {
      "cell_type": "code",
      "source": [
        " p1.a"
      ],
      "metadata": {
        "colab": {
          "base_uri": "https://localhost:8080/"
        },
        "id": "c2sfiSGmiGAr",
        "outputId": "377773be-edd7-484f-f484-5fe2e140b917"
      },
      "execution_count": null,
      "outputs": [
        {
          "output_type": "execute_result",
          "data": {
            "text/plain": [
              "20"
            ]
          },
          "metadata": {},
          "execution_count": 25
        }
      ]
    },
    {
      "cell_type": "code",
      "source": [
        "p1.video()"
      ],
      "metadata": {
        "colab": {
          "base_uri": "https://localhost:8080/"
        },
        "id": "Jc3_ZbgvjANF",
        "outputId": "ec58a9c5-f540-40b2-f76c-35a2c1171da4"
      },
      "execution_count": null,
      "outputs": [
        {
          "output_type": "stream",
          "name": "stdout",
          "text": [
            "The phone has v call feature\n",
            "20\n"
          ]
        }
      ]
    },
    {
      "cell_type": "code",
      "source": [
        "class Phone2():\n",
        "  def __init__(self,brand,color):\n",
        "    self.brand=brand\n",
        "    self.color=color\n",
        "  def printing(self):\n",
        "    print(\" I have \" +self.brand+ \" in color \" +self.color)\n"
      ],
      "metadata": {
        "id": "T8fLPwC8lJh6"
      },
      "execution_count": null,
      "outputs": []
    },
    {
      "cell_type": "code",
      "source": [
        "p2=Phone2(\"OnePlus\",\"Red\")"
      ],
      "metadata": {
        "id": "7hSvYnRfny-5"
      },
      "execution_count": null,
      "outputs": []
    },
    {
      "cell_type": "code",
      "source": [
        "p2.printing()"
      ],
      "metadata": {
        "colab": {
          "base_uri": "https://localhost:8080/"
        },
        "id": "8knqxw75n7vc",
        "outputId": "667ac05f-c5bd-4972-f2a8-3b5b040dfc3c"
      },
      "execution_count": null,
      "outputs": [
        {
          "output_type": "stream",
          "name": "stdout",
          "text": [
            " I have OnePlus in color Red\n"
          ]
        }
      ]
    },
    {
      "cell_type": "code",
      "source": [
        "class Phone3(Phone2):\n",
        "  def __init__(self,brand,color,ram,rom):\n",
        "    super(). __init__(brand,color)\n",
        "    self.ram=ram\n",
        "    self.rom=rom\n",
        "  def Printing2(self):\n",
        "    print(\"Im child class\")\n",
        "    print(self.ram)\n",
        "    print(self.rom)"
      ],
      "metadata": {
        "id": "0gRtU0V1oGJA"
      },
      "execution_count": null,
      "outputs": []
    },
    {
      "cell_type": "code",
      "source": [
        "p3=Phone3(\"Samsung\",\"Black\",\"16 GB\",\"256 GB\")"
      ],
      "metadata": {
        "id": "egYsUMr3rlhR"
      },
      "execution_count": null,
      "outputs": []
    },
    {
      "cell_type": "code",
      "source": [
        "p3.printing()"
      ],
      "metadata": {
        "colab": {
          "base_uri": "https://localhost:8080/"
        },
        "id": "zs5w2e5Nromc",
        "outputId": "3a33e37c-41f4-43ab-cc66-0ce8bce2d1c5"
      },
      "execution_count": null,
      "outputs": [
        {
          "output_type": "stream",
          "name": "stdout",
          "text": [
            " I have Samsung in color Black\n"
          ]
        }
      ]
    },
    {
      "cell_type": "code",
      "source": [
        "p3.Printing2()"
      ],
      "metadata": {
        "colab": {
          "base_uri": "https://localhost:8080/"
        },
        "id": "uPP-4WnUrydn",
        "outputId": "6d186e1e-1264-4ff0-ad61-cf8374d495aa"
      },
      "execution_count": null,
      "outputs": [
        {
          "output_type": "stream",
          "name": "stdout",
          "text": [
            "Im child class\n",
            "16 GB\n",
            "256 GB\n"
          ]
        }
      ]
    },
    {
      "cell_type": "code",
      "source": [
        ""
      ],
      "metadata": {
        "id": "5XC7DsofumPO"
      },
      "execution_count": null,
      "outputs": []
    },
    {
      "cell_type": "markdown",
      "source": [
        "1.Public Members : Everywhere accessible\n",
        "2.Protected Members: Derived class and own class\n",
        "3.Private Members: Only own class"
      ],
      "metadata": {
        "id": "2xtXhktC0rNS"
      }
    },
    {
      "cell_type": "code",
      "source": [
        "class A:\n",
        "  a=10  #Public\n",
        "  _b=20  #Protected\n",
        "  __c=30 #Private\n",
        "  def print_all(self):\n",
        "    print(self.a)\n",
        "    print(self._b)\n",
        "    print(self.__c)"
      ],
      "metadata": {
        "id": "_gVI2fCw1Dig"
      },
      "execution_count": null,
      "outputs": []
    },
    {
      "cell_type": "code",
      "source": [
        "p1=A()"
      ],
      "metadata": {
        "id": "tgPa_jHM2euF"
      },
      "execution_count": null,
      "outputs": []
    },
    {
      "cell_type": "code",
      "source": [
        "p1.print_all()"
      ],
      "metadata": {
        "colab": {
          "base_uri": "https://localhost:8080/"
        },
        "id": "SgJkkpnH2h6G",
        "outputId": "46900af3-42ad-4ce8-d223-f00d43d74895"
      },
      "execution_count": null,
      "outputs": [
        {
          "output_type": "stream",
          "name": "stdout",
          "text": [
            "10\n",
            "20\n",
            "30\n"
          ]
        }
      ]
    },
    {
      "cell_type": "code",
      "source": [
        "class B(A):\n",
        "  def show(self):\n",
        "    print(self._b)"
      ],
      "metadata": {
        "id": "rXMDUFVA2k3E"
      },
      "execution_count": null,
      "outputs": []
    },
    {
      "cell_type": "code",
      "source": [
        "p2=B()"
      ],
      "metadata": {
        "id": "jT_CUm_V2uhr"
      },
      "execution_count": null,
      "outputs": []
    },
    {
      "cell_type": "code",
      "source": [
        "p2.show()"
      ],
      "metadata": {
        "colab": {
          "base_uri": "https://localhost:8080/"
        },
        "id": "jIrPKCl62xBp",
        "outputId": "f20e607b-393b-4cad-d17c-ab29bbd57eea"
      },
      "execution_count": null,
      "outputs": [
        {
          "output_type": "stream",
          "name": "stdout",
          "text": [
            "20\n"
          ]
        }
      ]
    },
    {
      "cell_type": "code",
      "source": [
        "class C(B):\n",
        "  def show_me(self):\n",
        "    print(self._b)"
      ],
      "metadata": {
        "id": "bqxCUDxm2zuq"
      },
      "execution_count": null,
      "outputs": []
    },
    {
      "cell_type": "code",
      "source": [
        "p3=C()"
      ],
      "metadata": {
        "id": "fTNjHNVJ5N-_"
      },
      "execution_count": null,
      "outputs": []
    },
    {
      "cell_type": "code",
      "source": [
        "p3.show_me()"
      ],
      "metadata": {
        "colab": {
          "base_uri": "https://localhost:8080/"
        },
        "id": "zPJ5dDbK5P4f",
        "outputId": "258b98e6-887d-4c6f-d817-e74bd401d462"
      },
      "execution_count": null,
      "outputs": [
        {
          "output_type": "stream",
          "name": "stdout",
          "text": [
            "20\n"
          ]
        }
      ]
    },
    {
      "cell_type": "code",
      "source": [
        ""
      ],
      "metadata": {
        "id": "I4hz8tQv5TFS"
      },
      "execution_count": null,
      "outputs": []
    }
  ]
}